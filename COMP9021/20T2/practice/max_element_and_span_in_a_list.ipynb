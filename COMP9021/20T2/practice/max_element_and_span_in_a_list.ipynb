{
 "cells": [
  {
   "cell_type": "code",
   "execution_count": null,
   "metadata": {},
   "outputs": [],
   "source": [
    "%store -r execute_command\n",
    "%store -r import_testing_environment"
   ]
  },
  {
   "cell_type": "code",
   "execution_count": null,
   "metadata": {},
   "outputs": [],
   "source": [
    "import_testing_environment"
   ]
  },
  {
   "cell_type": "markdown",
   "metadata": {},
   "source": [
    "Max running time and max output size in deciseconds and bytes, respectively."
   ]
  },
  {
   "cell_type": "code",
   "execution_count": null,
   "metadata": {},
   "outputs": [],
   "source": [
    "env MAX_RUNNING_TIME 10"
   ]
  },
  {
   "cell_type": "code",
   "execution_count": null,
   "metadata": {},
   "outputs": [],
   "source": [
    "env MAX_OUTPUT_SIZE 1000"
   ]
  },
  {
   "cell_type": "markdown",
   "metadata": {},
   "source": [
    "## Max element in a list"
   ]
  },
  {
   "cell_type": "markdown",
   "metadata": {},
   "source": [
    "Study and run the following program."
   ]
  },
  {
   "cell_type": "code",
   "execution_count": null,
   "metadata": {},
   "outputs": [],
   "source": [
    "# %load max_in_list.py\n",
    "# Written by Eric Martin for COMP9021\n",
    "\n",
    "\n",
    "from random import seed, randint\n",
    "import sys\n",
    "\n",
    "\n",
    "# Prompts the user for an integer to provide as argument to the\n",
    "# seed() function.\n",
    "try:\n",
    "    arg_for_seed = int(input('Feed the seed with an integer: '))\n",
    "except ValueError:\n",
    "    print('Input is not an integer, giving up.')\n",
    "    sys.exit()   \n",
    "# Prompts the user a strictly positive number, nb_of_elements.\n",
    "try:\n",
    "    nb_of_elements = int(input('How many elements do you want to generate? '))\n",
    "except ValueError:\n",
    "    print('Input is not an integer, giving up.')\n",
    "    sys.exit()\n",
    "if nb_of_elements <= 0:\n",
    "    print('Input should be strictly positive, giving up.')\n",
    "    sys.exit()\n",
    "seed(arg_for_seed)\n",
    "# Generates a list of nb_of_elements random integers between 0 and 99.\n",
    "L = [randint(0, 99) for _ in range(nb_of_elements)]\n",
    "# Prints out the list.\n",
    "print('\\nThe list is:', L)\n",
    "# Computes the maximum element of the list without using the\n",
    "# builtin max().\n",
    "max_element = 0\n",
    "for e in L:\n",
    "    if e > max_element:\n",
    "        max_element = e\n",
    "# Prints out the value of the maximum element within text out.\n",
    "print('\\nThe maximum number in this list is:', max_element)\n",
    "# Confirms the value with the builtin max().\n",
    "print('Confirming with builtin operation:', max(L))\n"
   ]
  },
  {
   "cell_type": "markdown",
   "metadata": {},
   "source": [
    "## Task"
   ]
  },
  {
   "cell_type": "markdown",
   "metadata": {},
   "source": [
    "Write a program `span_in_list.py` that runs as follows.\n",
    "\n",
    "* It prompts the user for:\n",
    "    * an integer, given as argument to the `seed()` function from the `random` module;\n",
    "    * a strictly positive integer, *nb_of_elements*.\n",
    "* It generates, using *nb_of_elements* many calls to the `randint()` function from the `random` module, *nb_of_elements* random integers between 0 and 99 included.\n",
    "* It displays the generated list.\n",
    "* It computes the difference between the largest and smallest values in the list by scanning all elements in the list and displays it.\n",
    "* It computes the difference between the largest and smallest values in the list using the max() and min() builtin functions and displays it."
   ]
  },
  {
   "cell_type": "markdown",
   "metadata": {},
   "source": [
    "## Tests"
   ]
  },
  {
   "cell_type": "markdown",
   "metadata": {},
   "source": [
    "### A list with 1 integer"
   ]
  },
  {
   "cell_type": "markdown",
   "metadata": {},
   "source": [
    "Defining the command to execute and test:"
   ]
  },
  {
   "cell_type": "code",
   "execution_count": null,
   "metadata": {},
   "outputs": [],
   "source": [
    "env COMMAND_TO_EXECUTE echo 1\\n1 | python3 span_in_list.py"
   ]
  },
  {
   "cell_type": "markdown",
   "metadata": {},
   "source": [
    "Executing the command and capturing its output:"
   ]
  },
  {
   "cell_type": "code",
   "execution_count": null,
   "metadata": {},
   "outputs": [],
   "source": [
    "execute_command"
   ]
  },
  {
   "cell_type": "markdown",
   "metadata": {},
   "source": [
    "Examining the output:"
   ]
  },
  {
   "cell_type": "code",
   "execution_count": null,
   "metadata": {
    "scrolled": true
   },
   "outputs": [],
   "source": [
    "test_against('Feed the seed with an integer: ', '1\\n',\n",
    "             'How many elements do you want to generate? ', '1\\n',\n",
    "             '\\n'\n",
    "             'The list is: [17]\\n'\n",
    "             '\\n'\n",
    "             'The maximum difference between largest and smallest values '\n",
    "             'in this list is: 0\\n'\n",
    "             'Confirming with builtin operations: 0\\n'\n",
    "            )"
   ]
  },
  {
   "cell_type": "markdown",
   "metadata": {},
   "source": [
    "### A list with 2 integers"
   ]
  },
  {
   "cell_type": "markdown",
   "metadata": {},
   "source": [
    "Defining the command to execute and test:"
   ]
  },
  {
   "cell_type": "code",
   "execution_count": null,
   "metadata": {},
   "outputs": [],
   "source": [
    "env COMMAND_TO_EXECUTE echo 6\\n2 | python3 span_in_list.py"
   ]
  },
  {
   "cell_type": "markdown",
   "metadata": {},
   "source": [
    "Executing the command and capturing its output:"
   ]
  },
  {
   "cell_type": "code",
   "execution_count": null,
   "metadata": {},
   "outputs": [],
   "source": [
    "execute_command"
   ]
  },
  {
   "cell_type": "markdown",
   "metadata": {},
   "source": [
    "Examining the output:"
   ]
  },
  {
   "cell_type": "code",
   "execution_count": null,
   "metadata": {
    "scrolled": false
   },
   "outputs": [],
   "source": [
    "test_against('Feed the seed with an integer: ', '6\\n',\n",
    "             'How many elements do you want to generate? ', '2\\n',\n",
    "             '\\n'\n",
    "             'The list is: [73, 10]\\n'\n",
    "             '\\n'\n",
    "             'The maximum difference between largest and smallest values '\n",
    "             'in this list is: 63\\n'\n",
    "             'Confirming with builtin operations: 63\\n'\n",
    "            )"
   ]
  },
  {
   "cell_type": "markdown",
   "metadata": {},
   "source": [
    "### A list with 3 integers"
   ]
  },
  {
   "cell_type": "markdown",
   "metadata": {},
   "source": [
    "Defining the command to execute and test:"
   ]
  },
  {
   "cell_type": "code",
   "execution_count": null,
   "metadata": {},
   "outputs": [],
   "source": [
    "env COMMAND_TO_EXECUTE echo 11\\n3 | python3 span_in_list.py"
   ]
  },
  {
   "cell_type": "markdown",
   "metadata": {},
   "source": [
    "Executing the command and capturing its output:"
   ]
  },
  {
   "cell_type": "code",
   "execution_count": null,
   "metadata": {},
   "outputs": [],
   "source": [
    "execute_command"
   ]
  },
  {
   "cell_type": "markdown",
   "metadata": {},
   "source": [
    "Examining the output:"
   ]
  },
  {
   "cell_type": "code",
   "execution_count": null,
   "metadata": {
    "scrolled": true
   },
   "outputs": [],
   "source": [
    "test_against('Feed the seed with an integer: ', '11\\n',\n",
    "             'How many elements do you want to generate? ', '3\\n',\n",
    "             '\\n'\n",
    "             'The list is: [57, 71, 99]\\n'\n",
    "             '\\n'\n",
    "             'The maximum difference between largest and smallest values '\n",
    "             'in this list is: 42\\n'\n",
    "             'Confirming with builtin operations: 42\\n'\n",
    "            )"
   ]
  },
  {
   "cell_type": "markdown",
   "metadata": {},
   "source": [
    "### A list with 4 integers"
   ]
  },
  {
   "cell_type": "markdown",
   "metadata": {},
   "source": [
    "Defining the command to execute and test:"
   ]
  },
  {
   "cell_type": "code",
   "execution_count": null,
   "metadata": {},
   "outputs": [],
   "source": [
    "env COMMAND_TO_EXECUTE echo 16\\n4 | python3 span_in_list.py"
   ]
  },
  {
   "cell_type": "markdown",
   "metadata": {},
   "source": [
    "Executing the command and capturing its output:"
   ]
  },
  {
   "cell_type": "code",
   "execution_count": null,
   "metadata": {},
   "outputs": [],
   "source": [
    "execute_command"
   ]
  },
  {
   "cell_type": "markdown",
   "metadata": {},
   "source": [
    "Examining the output:"
   ]
  },
  {
   "cell_type": "code",
   "execution_count": null,
   "metadata": {
    "scrolled": false
   },
   "outputs": [],
   "source": [
    "test_against('Feed the seed with an integer: ', '16\\n',\n",
    "             'How many elements do you want to generate? ', '4\\n',\n",
    "             '\\n'\n",
    "             'The list is: [46, 60, 61, 36]\\n'\n",
    "             '\\n'\n",
    "             'The maximum difference between largest and smallest values '\n",
    "             'in this list is: 25\\n'\n",
    "             'Confirming with builtin operations: 25\\n'\n",
    "            )"
   ]
  },
  {
   "cell_type": "markdown",
   "metadata": {},
   "source": [
    "### A list with 5 integers"
   ]
  },
  {
   "cell_type": "markdown",
   "metadata": {},
   "source": [
    "Defining the command to execute and test:"
   ]
  },
  {
   "cell_type": "code",
   "execution_count": null,
   "metadata": {},
   "outputs": [],
   "source": [
    "env COMMAND_TO_EXECUTE echo 21\\n5 | python3 span_in_list.py"
   ]
  },
  {
   "cell_type": "markdown",
   "metadata": {},
   "source": [
    "Executing the command and capturing its output:"
   ]
  },
  {
   "cell_type": "code",
   "execution_count": null,
   "metadata": {},
   "outputs": [],
   "source": [
    "execute_command"
   ]
  },
  {
   "cell_type": "markdown",
   "metadata": {},
   "source": [
    "Examining the output:"
   ]
  },
  {
   "cell_type": "code",
   "execution_count": null,
   "metadata": {
    "scrolled": true
   },
   "outputs": [],
   "source": [
    "test_against('Feed the seed with an integer: ', '21\\n',\n",
    "             'How many elements do you want to generate? ', '5\\n',\n",
    "             '\\n'\n",
    "             'The list is: [21, 53, 88, 53, 81]\\n'\n",
    "             '\\n'\n",
    "             'The maximum difference between largest and smallest values '\n",
    "             'in this list is: 67\\n'\n",
    "             'Confirming with builtin operations: 67\\n'\n",
    "            )"
   ]
  },
  {
   "cell_type": "markdown",
   "metadata": {},
   "source": [
    "### A list with 8 integers"
   ]
  },
  {
   "cell_type": "markdown",
   "metadata": {},
   "source": [
    "Defining the command to execute and test:"
   ]
  },
  {
   "cell_type": "code",
   "execution_count": null,
   "metadata": {},
   "outputs": [],
   "source": [
    "env COMMAND_TO_EXECUTE echo 26\\n8 | python3 span_in_list.py"
   ]
  },
  {
   "cell_type": "markdown",
   "metadata": {},
   "source": [
    "Executing the command and capturing its output:"
   ]
  },
  {
   "cell_type": "code",
   "execution_count": null,
   "metadata": {},
   "outputs": [],
   "source": [
    "execute_command"
   ]
  },
  {
   "cell_type": "markdown",
   "metadata": {},
   "source": [
    "Examining the output:"
   ]
  },
  {
   "cell_type": "code",
   "execution_count": null,
   "metadata": {
    "scrolled": true
   },
   "outputs": [],
   "source": [
    "test_against('Feed the seed with an integer: ', '26\\n',\n",
    "             'How many elements do you want to generate? ', '8\\n',\n",
    "             '\\n'\n",
    "             'The list is: [95, 25, 84, 26, 55, 76, 69, 7]\\n'\n",
    "             '\\n'\n",
    "             'The maximum difference between largest and smallest values '\n",
    "             'in this list is: 88\\n'\n",
    "             'Confirming with builtin operations: 88\\n'\n",
    "            )"
   ]
  },
  {
   "cell_type": "markdown",
   "metadata": {},
   "source": [
    "### A list with 13 integers"
   ]
  },
  {
   "cell_type": "markdown",
   "metadata": {},
   "source": [
    "Defining the command to execute and test:"
   ]
  },
  {
   "cell_type": "code",
   "execution_count": null,
   "metadata": {},
   "outputs": [],
   "source": [
    "env COMMAND_TO_EXECUTE echo 31\\n13 | python3 span_in_list.py"
   ]
  },
  {
   "cell_type": "markdown",
   "metadata": {},
   "source": [
    "Executing the command and capturing its output:"
   ]
  },
  {
   "cell_type": "code",
   "execution_count": null,
   "metadata": {},
   "outputs": [],
   "source": [
    "execute_command"
   ]
  },
  {
   "cell_type": "markdown",
   "metadata": {},
   "source": [
    "Examining the output:"
   ]
  },
  {
   "cell_type": "code",
   "execution_count": null,
   "metadata": {
    "scrolled": false
   },
   "outputs": [],
   "source": [
    "test_against('Feed the seed with an integer: ', '31\\n',\n",
    "             'How many elements do you want to generate? ', '13\\n',\n",
    "             '\\n'\n",
    "             'The list is: [1, 60, 14, 97, 50, 18, 87, 5, 17, 14, '\n",
    "                           '68, 29, 91]\\n'\n",
    "             '\\n'\n",
    "             'The maximum difference between largest and smallest values '\n",
    "             'in this list is: 96\\n'\n",
    "             'Confirming with builtin operations: 96\\n'\n",
    "            )"
   ]
  }
 ],
 "metadata": {
  "kernelspec": {
   "display_name": "Python 3",
   "language": "python",
   "name": "python3"
  },
  "language_info": {
   "codemirror_mode": {
    "name": "ipython",
    "version": 3
   },
   "file_extension": ".py",
   "mimetype": "text/x-python",
   "name": "python",
   "nbconvert_exporter": "python",
   "pygments_lexer": "ipython3",
   "version": "3.8.1"
  },
  "latex_envs": {
   "LaTeX_envs_menu_present": true,
   "autoclose": false,
   "autocomplete": true,
   "bibliofile": "biblio.bib",
   "cite_by": "apalike",
   "current_citInitial": 1,
   "eqLabelWithNumbers": true,
   "eqNumInitial": 1,
   "hotkeys": {
    "equation": "Ctrl-E",
    "itemize": "Ctrl-I"
   },
   "labels_anchors": false,
   "latex_user_defs": false,
   "report_style_numbering": false,
   "user_envs_cfg": false
  },
  "toc": {
   "base_numbering": 1,
   "nav_menu": {},
   "number_sections": true,
   "sideBar": true,
   "skip_h1_title": false,
   "title_cell": "Table of Contents",
   "title_sidebar": "Contents",
   "toc_cell": false,
   "toc_position": {},
   "toc_section_display": true,
   "toc_window_display": false
  }
 },
 "nbformat": 4,
 "nbformat_minor": 4
}
