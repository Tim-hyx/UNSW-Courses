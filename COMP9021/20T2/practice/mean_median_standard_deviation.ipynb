{
 "cells": [
  {
   "cell_type": "code",
   "execution_count": null,
   "metadata": {},
   "outputs": [],
   "source": [
    "%store -r execute_command\n",
    "%store -r import_testing_environment"
   ]
  },
  {
   "cell_type": "code",
   "execution_count": null,
   "metadata": {},
   "outputs": [],
   "source": [
    "import_testing_environment"
   ]
  },
  {
   "cell_type": "markdown",
   "metadata": {},
   "source": [
    "Max running time and max output size in deciseconds and bytes, respectively."
   ]
  },
  {
   "cell_type": "code",
   "execution_count": null,
   "metadata": {},
   "outputs": [],
   "source": [
    "env MAX_RUNNING_TIME 10"
   ]
  },
  {
   "cell_type": "code",
   "execution_count": null,
   "metadata": {},
   "outputs": [],
   "source": [
    "env MAX_OUTPUT_SIZE 1000"
   ]
  },
  {
   "cell_type": "markdown",
   "metadata": {},
   "source": [
    "## Task"
   ]
  },
  {
   "cell_type": "markdown",
   "metadata": {},
   "source": [
    "Write a program `mean_median_standard_deviation.py` that runs as follows.\n",
    "\n",
    "* It prompts the user for:\n",
    "    * an integer, given as argument to the `seed()` function from the `random` module;\n",
    "    * a strictly positive integer, *nb_of_elements*.\n",
    "* It generates, using *nb_of_elements* many calls to the `randint()` function from the `random` module, *nb_of_elements* random integers between -50 and 50 included.\n",
    "* It displays the generated list.\n",
    "* It computes the mean, the median and the standard deviation of the numbers in the list using nothing but arithmetic operators and displays them as floating point numbers with two digits after the decimal point.\n",
    "* It computes the mean, the median and the standard deviation of the numbers in the list using the `mean()`, `median()` and `pstdev()` functions from the statistics module and displays them as floating point numbers with two digits after the decimal point. "
   ]
  },
  {
   "cell_type": "markdown",
   "metadata": {},
   "source": [
    "## Tests"
   ]
  },
  {
   "cell_type": "markdown",
   "metadata": {},
   "source": [
    "### A list with 1 integer"
   ]
  },
  {
   "cell_type": "markdown",
   "metadata": {},
   "source": [
    "Defining the command to execute and test:"
   ]
  },
  {
   "cell_type": "code",
   "execution_count": null,
   "metadata": {},
   "outputs": [],
   "source": [
    "env COMMAND_TO_EXECUTE echo 0\\n1 | python3 mean_median_standard_deviation.py"
   ]
  },
  {
   "cell_type": "markdown",
   "metadata": {},
   "source": [
    "Executing the command and capturing its output:"
   ]
  },
  {
   "cell_type": "code",
   "execution_count": null,
   "metadata": {},
   "outputs": [],
   "source": [
    "execute_command"
   ]
  },
  {
   "cell_type": "markdown",
   "metadata": {},
   "source": [
    "Examining the output:"
   ]
  },
  {
   "cell_type": "code",
   "execution_count": null,
   "metadata": {},
   "outputs": [],
   "source": [
    "test_against('Feed the seed with an integer: ', '0\\n',\n",
    "             'How many elements do you want to generate? ', '1\\n',\n",
    "             '\\n'\n",
    "             'The list is: [-1]\\n'\n",
    "             '\\n'\n",
    "             'The mean is -1.00.\\n'\n",
    "             'The median is -1.00.\\n'\n",
    "             'The standard deviation is 0.00.\\n'\n",
    "             '\\n'\n",
    "             'Confirming with functions from the statistics module:\\n'\n",
    "             'The mean is -1.00.\\n'\n",
    "             'The median is -1.00.\\n'\n",
    "             'The standard deviation is 0.00.\\n'\n",
    "            )"
   ]
  },
  {
   "cell_type": "markdown",
   "metadata": {},
   "source": [
    "### A list with 2 integers"
   ]
  },
  {
   "cell_type": "markdown",
   "metadata": {},
   "source": [
    "Defining the command to execute and test:"
   ]
  },
  {
   "cell_type": "code",
   "execution_count": null,
   "metadata": {},
   "outputs": [],
   "source": [
    "env COMMAND_TO_EXECUTE echo 5\\n2 | python3 mean_median_standard_deviation.py"
   ]
  },
  {
   "cell_type": "markdown",
   "metadata": {},
   "source": [
    "Executing the command and capturing its output:"
   ]
  },
  {
   "cell_type": "code",
   "execution_count": null,
   "metadata": {},
   "outputs": [],
   "source": [
    "execute_command"
   ]
  },
  {
   "cell_type": "markdown",
   "metadata": {},
   "source": [
    "Examining the output:"
   ]
  },
  {
   "cell_type": "code",
   "execution_count": null,
   "metadata": {},
   "outputs": [],
   "source": [
    "test_against('Feed the seed with an integer: ', '5\\n',\n",
    "             'How many elements do you want to generate? ', '2\\n',\n",
    "             '\\n'\n",
    "             'The list is: [29, -18]\\n'\n",
    "             '\\n'\n",
    "             'The mean is 5.50.\\n'\n",
    "             'The median is 5.50.\\n'\n",
    "             'The standard deviation is 23.50.\\n'\n",
    "             '\\n'\n",
    "             'Confirming with functions from the statistics module:\\n'\n",
    "             'The mean is 5.50.\\n'\n",
    "             'The median is 5.50.\\n'\n",
    "             'The standard deviation is 23.50.\\n'\n",
    "            )"
   ]
  },
  {
   "cell_type": "markdown",
   "metadata": {},
   "source": [
    "### A list with 3 integers"
   ]
  },
  {
   "cell_type": "markdown",
   "metadata": {},
   "source": [
    "Defining the command to execute and test:"
   ]
  },
  {
   "cell_type": "code",
   "execution_count": null,
   "metadata": {},
   "outputs": [],
   "source": [
    "env COMMAND_TO_EXECUTE echo 10\\n3 | python3 mean_median_standard_deviation.py"
   ]
  },
  {
   "cell_type": "markdown",
   "metadata": {},
   "source": [
    "Executing the command and capturing its output:"
   ]
  },
  {
   "cell_type": "code",
   "execution_count": null,
   "metadata": {},
   "outputs": [],
   "source": [
    "execute_command"
   ]
  },
  {
   "cell_type": "markdown",
   "metadata": {},
   "source": [
    "Examining the output:"
   ]
  },
  {
   "cell_type": "code",
   "execution_count": null,
   "metadata": {},
   "outputs": [],
   "source": [
    "test_against('Feed the seed with an integer: ', '10\\n',\n",
    "             'How many elements do you want to generate? ', '3\\n',\n",
    "             '\\n'\n",
    "             'The list is: [23, -46, 4]\\n'\n",
    "             '\\n'\n",
    "             'The mean is -6.33.\\n'\n",
    "             'The median is 4.00.\\n'\n",
    "             'The standard deviation is 29.10.\\n'\n",
    "             '\\n'\n",
    "             'Confirming with functions from the statistics module:\\n'\n",
    "             'The mean is -6.33.\\n'\n",
    "             'The median is 4.00.\\n'\n",
    "             'The standard deviation is 29.10.\\n'\n",
    "            )"
   ]
  },
  {
   "cell_type": "markdown",
   "metadata": {},
   "source": [
    "### A list with 4 integers"
   ]
  },
  {
   "cell_type": "markdown",
   "metadata": {},
   "source": [
    "Defining the command to execute and test:"
   ]
  },
  {
   "cell_type": "code",
   "execution_count": null,
   "metadata": {},
   "outputs": [],
   "source": [
    "env COMMAND_TO_EXECUTE echo 15\\n4 | python3 mean_median_standard_deviation.py"
   ]
  },
  {
   "cell_type": "markdown",
   "metadata": {},
   "source": [
    "Executing the command and capturing its output:"
   ]
  },
  {
   "cell_type": "code",
   "execution_count": null,
   "metadata": {},
   "outputs": [],
   "source": [
    "execute_command"
   ]
  },
  {
   "cell_type": "markdown",
   "metadata": {},
   "source": [
    "Examining the output:"
   ]
  },
  {
   "cell_type": "code",
   "execution_count": null,
   "metadata": {
    "scrolled": true
   },
   "outputs": [],
   "source": [
    "test_against('Feed the seed with an integer: ', '15\\n',\n",
    "             'How many elements do you want to generate? ', '4\\n',\n",
    "             '\\n'\n",
    "             'The list is: [-24, -49, 16, 44]\\n'\n",
    "             '\\n'\n",
    "             'The mean is -3.25.\\n'\n",
    "             'The median is -4.00.\\n'\n",
    "             'The standard deviation is 35.80.\\n'\n",
    "             '\\n'\n",
    "             'Confirming with functions from the statistics module:\\n'\n",
    "             'The mean is -3.25.\\n'\n",
    "             'The median is -4.00.\\n'\n",
    "             'The standard deviation is 35.80.\\n'\n",
    "            )"
   ]
  },
  {
   "cell_type": "markdown",
   "metadata": {},
   "source": [
    "### A list with 5 integers"
   ]
  },
  {
   "cell_type": "markdown",
   "metadata": {},
   "source": [
    "Defining the command to execute and test:"
   ]
  },
  {
   "cell_type": "code",
   "execution_count": null,
   "metadata": {},
   "outputs": [],
   "source": [
    "env COMMAND_TO_EXECUTE echo 20\\n5 | python3 mean_median_standard_deviation.py"
   ]
  },
  {
   "cell_type": "markdown",
   "metadata": {},
   "source": [
    "Executing the command and capturing its output:"
   ]
  },
  {
   "cell_type": "code",
   "execution_count": null,
   "metadata": {},
   "outputs": [],
   "source": [
    "execute_command"
   ]
  },
  {
   "cell_type": "markdown",
   "metadata": {},
   "source": [
    "Examining the output:"
   ]
  },
  {
   "cell_type": "code",
   "execution_count": null,
   "metadata": {
    "scrolled": false
   },
   "outputs": [],
   "source": [
    "test_against('Feed the seed with an integer: ', '20\\n',\n",
    "             'How many elements do you want to generate? ', '5\\n',\n",
    "             '\\n'\n",
    "             'The list is: [42, 37, 50, 48, -31]\\n'\n",
    "             '\\n'\n",
    "             'The mean is 29.20.\\n'\n",
    "             'The median is 42.00.\\n'\n",
    "             'The standard deviation is 30.45.\\n'\n",
    "             '\\n'\n",
    "             'Confirming with functions from the statistics module:\\n'\n",
    "             'The mean is 29.20.\\n'\n",
    "             'The median is 42.00.\\n'\n",
    "             'The standard deviation is 30.45.\\n'\n",
    "            )"
   ]
  },
  {
   "cell_type": "markdown",
   "metadata": {},
   "source": [
    "### A list with 8 integers"
   ]
  },
  {
   "cell_type": "markdown",
   "metadata": {},
   "source": [
    "Defining the command to execute and test:"
   ]
  },
  {
   "cell_type": "code",
   "execution_count": null,
   "metadata": {},
   "outputs": [],
   "source": [
    "env COMMAND_TO_EXECUTE echo 25\\n8 | python3 mean_median_standard_deviation.py"
   ]
  },
  {
   "cell_type": "markdown",
   "metadata": {},
   "source": [
    "Executing the command and capturing its output:"
   ]
  },
  {
   "cell_type": "code",
   "execution_count": null,
   "metadata": {},
   "outputs": [],
   "source": [
    "execute_command"
   ]
  },
  {
   "cell_type": "markdown",
   "metadata": {},
   "source": [
    "Examining the output:"
   ]
  },
  {
   "cell_type": "code",
   "execution_count": null,
   "metadata": {
    "scrolled": true
   },
   "outputs": [],
   "source": [
    "test_against('Feed the seed with an integer: ', '25\\n',\n",
    "             'How many elements do you want to generate? ', '8\\n',\n",
    "             '\\n'\n",
    "             'The list is: [-2, 48, -49, -23, -11, 31, 10, -45]\\n'\n",
    "             '\\n'\n",
    "             'The mean is -5.12.\\n'\n",
    "             'The median is -6.50.\\n'\n",
    "             'The standard deviation is 32.08.\\n'\n",
    "             '\\n'\n",
    "             'Confirming with functions from the statistics module:\\n'\n",
    "             'The mean is -5.12.\\n'\n",
    "             'The median is -6.50.\\n'\n",
    "             'The standard deviation is 32.08.\\n'\n",
    "            )"
   ]
  },
  {
   "cell_type": "markdown",
   "metadata": {},
   "source": [
    "### A list with 13 integers"
   ]
  },
  {
   "cell_type": "markdown",
   "metadata": {},
   "source": [
    "Defining the command to execute and test:"
   ]
  },
  {
   "cell_type": "code",
   "execution_count": null,
   "metadata": {},
   "outputs": [],
   "source": [
    "env COMMAND_TO_EXECUTE echo 30\\n13 | python3 mean_median_standard_deviation.py"
   ]
  },
  {
   "cell_type": "markdown",
   "metadata": {},
   "source": [
    "Executing the command and capturing its output:"
   ]
  },
  {
   "cell_type": "code",
   "execution_count": null,
   "metadata": {},
   "outputs": [],
   "source": [
    "execute_command"
   ]
  },
  {
   "cell_type": "markdown",
   "metadata": {},
   "source": [
    "Examining the output:"
   ]
  },
  {
   "cell_type": "code",
   "execution_count": null,
   "metadata": {
    "scrolled": false
   },
   "outputs": [],
   "source": [
    "test_against('Feed the seed with an integer: ', '30\\n',\n",
    "             'How many elements do you want to generate? ', '13\\n',\n",
    "             '\\n'\n",
    "             'The list is: [19, -13, 28, -47, 29, 33, -24, -18, -44, 0, '\n",
    "                           '-2, 32, -33]\\n'\n",
    "             '\\n'\n",
    "             'The mean is -3.08.\\n'\n",
    "             'The median is -2.00.\\n'\n",
    "             'The standard deviation is 28.12.\\n'\n",
    "             '\\n'\n",
    "             'Confirming with functions from the statistics module:\\n'\n",
    "             'The mean is -3.08.\\n'\n",
    "             'The median is -2.00.\\n'\n",
    "             'The standard deviation is 28.12.\\n'\n",
    "            )"
   ]
  }
 ],
 "metadata": {
  "kernelspec": {
   "display_name": "Python 3",
   "language": "python",
   "name": "python3"
  },
  "language_info": {
   "codemirror_mode": {
    "name": "ipython",
    "version": 3
   },
   "file_extension": ".py",
   "mimetype": "text/x-python",
   "name": "python",
   "nbconvert_exporter": "python",
   "pygments_lexer": "ipython3",
   "version": "3.8.0"
  },
  "latex_envs": {
   "LaTeX_envs_menu_present": true,
   "autoclose": false,
   "autocomplete": true,
   "bibliofile": "biblio.bib",
   "cite_by": "apalike",
   "current_citInitial": 1,
   "eqLabelWithNumbers": true,
   "eqNumInitial": 1,
   "hotkeys": {
    "equation": "Ctrl-E",
    "itemize": "Ctrl-I"
   },
   "labels_anchors": false,
   "latex_user_defs": false,
   "report_style_numbering": false,
   "user_envs_cfg": false
  },
  "toc": {
   "base_numbering": 1,
   "nav_menu": {},
   "number_sections": true,
   "sideBar": true,
   "skip_h1_title": false,
   "title_cell": "Table of Contents",
   "title_sidebar": "Contents",
   "toc_cell": false,
   "toc_position": {},
   "toc_section_display": true,
   "toc_window_display": false
  }
 },
 "nbformat": 4,
 "nbformat_minor": 4
}
