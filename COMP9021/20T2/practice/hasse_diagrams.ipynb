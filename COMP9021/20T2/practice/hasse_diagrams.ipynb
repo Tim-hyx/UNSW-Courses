{
 "cells": [
  {
   "cell_type": "code",
   "execution_count": null,
   "metadata": {},
   "outputs": [],
   "source": [
    "%store -r execute_command\n",
    "%store -r import_testing_environment"
   ]
  },
  {
   "cell_type": "code",
   "execution_count": null,
   "metadata": {},
   "outputs": [],
   "source": [
    "import_testing_environment"
   ]
  },
  {
   "cell_type": "markdown",
   "metadata": {},
   "source": [
    "Max running time and max output size in deciseconds and bytes, respectively."
   ]
  },
  {
   "cell_type": "code",
   "execution_count": null,
   "metadata": {},
   "outputs": [],
   "source": [
    "env MAX_RUNNING_TIME 10"
   ]
  },
  {
   "cell_type": "code",
   "execution_count": null,
   "metadata": {},
   "outputs": [],
   "source": [
    "env MAX_OUTPUT_SIZE 1000"
   ]
  },
  {
   "cell_type": "markdown",
   "metadata": {},
   "source": [
    "## Background"
   ]
  },
  {
   "cell_type": "markdown",
   "metadata": {},
   "source": [
    "Let a strictly positive integer $n$ be given. Let $D$ be the set of positive divisors of $n$. Let $k$ be the number of prime divisors of $n$ (the number of prime numbers in $D$). The members of $D$ can be arranged as the vertices of a solid in a $k$-dimensional space as illustrated below for $n=12$ (in which case $D=\\{1,2,3,4,6,12\\}$ and $k=2$) and for $n=30$ (in which case $D=\\{1,2,3,5,6,10,15,30\\}$ and $k=3$).\n",
    "\n",
    "* Each of the solids' vertices is associated with two collections of nodes: those \"directly below\" it, and those \"directly above\" it. In particular, the prime divisors of $n$ are \"directly above\" 1, and no vertex is below 1; $n$ has exactly $k$ vertices \"directly below\" it, and no vertex is above $n$. This suggests considering a dictionary whose keys are the members of $D$ (inserted from smallest to largest), and as value for a given key $d$, the pair of ordered lists of members of $D$ \"directly below\" $d$ and \"directly above\" $d$, respectively.\n",
    "* The solids exhibit $k$ distinct \"edge directions\", one for each prime divisor of $n$, defining a partition of the solids' edges. One can represent this partition as a dictionary whose keys are the prime divisors of $n$ (inserted from smallest to largest), and as value for a given key $p$, the ordered list of ordered pairs of members of $D$ that make up the endpoints of the edges whose \"direction\" is associated with $p$.\n",
    "![](hasse_diagrams.pdf)"
   ]
  },
  {
   "cell_type": "markdown",
   "metadata": {},
   "source": [
    "## Task"
   ]
  },
  {
   "cell_type": "markdown",
   "metadata": {},
   "source": [
    "Write a program `hasse_diagram.py` that defines a function `make_hasse_diagram(n)` that given a strictly positive integer $n$ as argument, returns a named tuple `HasseDiagram` with three attributes:\n",
    "\n",
    "* `factors`, for a dictionary whose keys are the divisors of $n$ , and as value for a given key $d$, 1 excepted, a string that represents the prime decomposition of $d$, using `x` for multiplication and `^` for exponentiation, displaying only exponents greater than 1;\n",
    "* `vertices`, for the first dictionary previously defined;\n",
    "* `edges`, for the second dictionary previously defined."
   ]
  },
  {
   "cell_type": "markdown",
   "metadata": {},
   "source": [
    "## Tests"
   ]
  },
  {
   "cell_type": "markdown",
   "metadata": {},
   "source": [
    "### Factors of 12"
   ]
  },
  {
   "cell_type": "markdown",
   "metadata": {},
   "source": [
    "Defining the command to execute and test:"
   ]
  },
  {
   "cell_type": "code",
   "execution_count": null,
   "metadata": {},
   "outputs": [],
   "source": [
    "statements = \"'from hasse_diagrams import *; \"\\\n",
    "             \"print(make_hasse_diagram(12).factors)'\"\n",
    "%env COMMAND_TO_EXECUTE=python3 -c $statements"
   ]
  },
  {
   "cell_type": "markdown",
   "metadata": {},
   "source": [
    "Executing the command and capturing its output:"
   ]
  },
  {
   "cell_type": "code",
   "execution_count": null,
   "metadata": {},
   "outputs": [],
   "source": [
    "execute_command"
   ]
  },
  {
   "cell_type": "markdown",
   "metadata": {},
   "source": [
    "Examining the output:"
   ]
  },
  {
   "cell_type": "code",
   "execution_count": null,
   "metadata": {},
   "outputs": [],
   "source": [
    "test_against(\"{1: '1', 2: '2', 3: '3', 4: '2^2', 6: '2x3', 12: '2^2x3'}\\n\")"
   ]
  },
  {
   "cell_type": "markdown",
   "metadata": {},
   "source": [
    "### Vertices of the Hasse diagram for 12"
   ]
  },
  {
   "cell_type": "markdown",
   "metadata": {},
   "source": [
    "Defining the command to execute and test:"
   ]
  },
  {
   "cell_type": "code",
   "execution_count": null,
   "metadata": {},
   "outputs": [],
   "source": [
    "statements = \"'from pprint import pprint; from hasse_diagrams import *; \"\\\n",
    "             \"pprint(make_hasse_diagram(12).vertices)'\"\n",
    "%env COMMAND_TO_EXECUTE=python3 -c $statements"
   ]
  },
  {
   "cell_type": "markdown",
   "metadata": {},
   "source": [
    "Executing the command and capturing its output:"
   ]
  },
  {
   "cell_type": "code",
   "execution_count": null,
   "metadata": {},
   "outputs": [],
   "source": [
    "execute_command"
   ]
  },
  {
   "cell_type": "markdown",
   "metadata": {},
   "source": [
    "Examining the output:"
   ]
  },
  {
   "cell_type": "code",
   "execution_count": null,
   "metadata": {
    "scrolled": true
   },
   "outputs": [],
   "source": [
    "test_against('{1: ([], [2, 3]),\\n'\n",
    "             ' 2: ([1], [4, 6]),\\n'\n",
    "             ' 3: ([1], [6]),\\n'\n",
    "             ' 4: ([2], [12]),\\n'\n",
    "             ' 6: ([2, 3], [12]),\\n'\n",
    "             ' 12: ([4, 6], [])}\\n'\n",
    "            )"
   ]
  },
  {
   "cell_type": "markdown",
   "metadata": {},
   "source": [
    "### Edges of the Hasse diagram for 12"
   ]
  },
  {
   "cell_type": "markdown",
   "metadata": {},
   "source": [
    "Defining the command to execute and test:"
   ]
  },
  {
   "cell_type": "code",
   "execution_count": null,
   "metadata": {},
   "outputs": [],
   "source": [
    "statements = \"'from hasse_diagrams import *; \"\\\n",
    "             \"print(make_hasse_diagram(12).edges)'\"\n",
    "%env COMMAND_TO_EXECUTE=python3 -c $statements"
   ]
  },
  {
   "cell_type": "markdown",
   "metadata": {},
   "source": [
    "Executing the command and capturing its output:"
   ]
  },
  {
   "cell_type": "code",
   "execution_count": null,
   "metadata": {},
   "outputs": [],
   "source": [
    "execute_command"
   ]
  },
  {
   "cell_type": "markdown",
   "metadata": {},
   "source": [
    "Examining the output:"
   ]
  },
  {
   "cell_type": "code",
   "execution_count": null,
   "metadata": {},
   "outputs": [],
   "source": [
    "test_against('{2: [(1, 2), (2, 4), (3, 6), (6, 12)],'\n",
    "             ' 3: [(1, 3), (2, 6), (4, 12)]}\\n'\n",
    "            )"
   ]
  },
  {
   "cell_type": "markdown",
   "metadata": {},
   "source": [
    "### Factors of 30"
   ]
  },
  {
   "cell_type": "markdown",
   "metadata": {},
   "source": [
    "Defining the command to execute and test:"
   ]
  },
  {
   "cell_type": "code",
   "execution_count": null,
   "metadata": {},
   "outputs": [],
   "source": [
    "statements = \"'from hasse_diagrams import *; \"\\\n",
    "             \"print(make_hasse_diagram(30).factors)'\"\n",
    "%env COMMAND_TO_EXECUTE=python3 -c $statements"
   ]
  },
  {
   "cell_type": "markdown",
   "metadata": {},
   "source": [
    "Executing the command and capturing its output:"
   ]
  },
  {
   "cell_type": "code",
   "execution_count": null,
   "metadata": {},
   "outputs": [],
   "source": [
    "execute_command"
   ]
  },
  {
   "cell_type": "markdown",
   "metadata": {},
   "source": [
    "Examining the output:"
   ]
  },
  {
   "cell_type": "code",
   "execution_count": null,
   "metadata": {},
   "outputs": [],
   "source": [
    "test_against(\"{1: '1', 2: '2', 3: '3', 5: '5', 6: '2x3',\"\n",
    "             \" 10: '2x5', 15: '3x5', 30: '2x3x5'}\\n\"\n",
    "            )"
   ]
  },
  {
   "cell_type": "markdown",
   "metadata": {},
   "source": [
    "### Vertices of the Hasse diagram for 30"
   ]
  },
  {
   "cell_type": "markdown",
   "metadata": {},
   "source": [
    "Defining the command to execute and test:"
   ]
  },
  {
   "cell_type": "code",
   "execution_count": null,
   "metadata": {},
   "outputs": [],
   "source": [
    "statements = \"'from pprint import pprint; from hasse_diagrams import *; \"\\\n",
    "             \"pprint(make_hasse_diagram(30).vertices)'\"\n",
    "%env COMMAND_TO_EXECUTE=python3 -c $statements"
   ]
  },
  {
   "cell_type": "markdown",
   "metadata": {},
   "source": [
    "Executing the command and capturing its output:"
   ]
  },
  {
   "cell_type": "code",
   "execution_count": null,
   "metadata": {},
   "outputs": [],
   "source": [
    "execute_command"
   ]
  },
  {
   "cell_type": "markdown",
   "metadata": {},
   "source": [
    "Examining the output:"
   ]
  },
  {
   "cell_type": "code",
   "execution_count": null,
   "metadata": {},
   "outputs": [],
   "source": [
    "test_against('{1: ([], [2, 3, 5]),\\n'\n",
    "             ' 2: ([1], [6, 10]),\\n'\n",
    "             ' 3: ([1], [6, 15]),\\n'\n",
    "             ' 5: ([1], [10, 15]),\\n'\n",
    "             ' 6: ([2, 3], [30]),\\n'\n",
    "             ' 10: ([2, 5], [30]),\\n'\n",
    "             ' 15: ([3, 5], [30]),\\n'\n",
    "             ' 30: ([6, 10, 15], [])}\\n'\n",
    "            )"
   ]
  },
  {
   "cell_type": "markdown",
   "metadata": {},
   "source": [
    "### Edges of the Hasse diagram for 30"
   ]
  },
  {
   "cell_type": "markdown",
   "metadata": {},
   "source": [
    "Defining the command to execute and test:"
   ]
  },
  {
   "cell_type": "code",
   "execution_count": null,
   "metadata": {},
   "outputs": [],
   "source": [
    "statements = \"'from pprint import pprint; from hasse_diagrams import *; \"\\\n",
    "             \"pprint(make_hasse_diagram(30).edges)'\"\n",
    "%env COMMAND_TO_EXECUTE=python3 -c $statements"
   ]
  },
  {
   "cell_type": "markdown",
   "metadata": {},
   "source": [
    "Executing the command and capturing its output:"
   ]
  },
  {
   "cell_type": "code",
   "execution_count": null,
   "metadata": {},
   "outputs": [],
   "source": [
    "execute_command"
   ]
  },
  {
   "cell_type": "markdown",
   "metadata": {},
   "source": [
    "Examining the output:"
   ]
  },
  {
   "cell_type": "code",
   "execution_count": null,
   "metadata": {},
   "outputs": [],
   "source": [
    "test_against('{2: [(1, 2), (3, 6), (5, 10), (15, 30)],\\n'\n",
    "             ' 3: [(1, 3), (2, 6), (5, 15), (10, 30)],\\n'\n",
    "             ' 5: [(1, 5), (2, 10), (3, 15), (6, 30)]}\\n'\n",
    "            )"
   ]
  }
 ],
 "metadata": {
  "kernelspec": {
   "display_name": "Python 3",
   "language": "python",
   "name": "python3"
  },
  "language_info": {
   "codemirror_mode": {
    "name": "ipython",
    "version": 3
   },
   "file_extension": ".py",
   "mimetype": "text/x-python",
   "name": "python",
   "nbconvert_exporter": "python",
   "pygments_lexer": "ipython3",
   "version": "3.8.2"
  },
  "latex_envs": {
   "LaTeX_envs_menu_present": true,
   "autoclose": false,
   "autocomplete": true,
   "bibliofile": "biblio.bib",
   "cite_by": "apalike",
   "current_citInitial": 1,
   "eqLabelWithNumbers": true,
   "eqNumInitial": 1,
   "hotkeys": {
    "equation": "Ctrl-E",
    "itemize": "Ctrl-I"
   },
   "labels_anchors": false,
   "latex_user_defs": false,
   "report_style_numbering": false,
   "user_envs_cfg": false
  },
  "toc": {
   "base_numbering": 1,
   "nav_menu": {},
   "number_sections": true,
   "sideBar": true,
   "skip_h1_title": false,
   "title_cell": "Table of Contents",
   "title_sidebar": "Contents",
   "toc_cell": false,
   "toc_position": {},
   "toc_section_display": true,
   "toc_window_display": false
  }
 },
 "nbformat": 4,
 "nbformat_minor": 4
}
