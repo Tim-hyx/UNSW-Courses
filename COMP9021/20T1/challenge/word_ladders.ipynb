{
 "cells": [
  {
   "cell_type": "code",
   "execution_count": null,
   "metadata": {},
   "outputs": [],
   "source": [
    "import zipfile\n",
    "with zipfile.ZipFile('Illustrations.zip') as illustrations:\n",
    "    illustrations.extractall('.')"
   ]
  },
  {
   "cell_type": "code",
   "execution_count": null,
   "metadata": {},
   "outputs": [],
   "source": [
    "%store -r execute_command\n",
    "%store -r import_testing_environment"
   ]
  },
  {
   "cell_type": "code",
   "execution_count": null,
   "metadata": {},
   "outputs": [],
   "source": [
    "import_testing_environment"
   ]
  },
  {
   "cell_type": "markdown",
   "metadata": {},
   "source": [
    "Max running time and max output size in deciseconds and bytes, respectively."
   ]
  },
  {
   "cell_type": "code",
   "execution_count": null,
   "metadata": {},
   "outputs": [],
   "source": [
    "env MAX_RUNNING_TIME 20"
   ]
  },
  {
   "cell_type": "code",
   "execution_count": null,
   "metadata": {},
   "outputs": [],
   "source": [
    "env MAX_OUTPUT_SIZE 3000"
   ]
  },
  {
   "cell_type": "markdown",
   "metadata": {},
   "source": [
    "## Background"
   ]
  },
  {
   "cell_type": "markdown",
   "metadata": {},
   "source": [
    "A word ladder is a sequence of words such that two successive words in the sequence differ by exactly one letter; so they start and end with words having the same number of letters. A word ladder is particularly appealing if the first and last words are semantically related. All words that make up a ladder are to be found in a given dictionary. A natural condition is that a ladder is of minimal length (w.r.t. the given dictionary). We are interested in discovering all possible ladders (of minimal length), if any, between given first and last words. For instance, with the dictionary we will be working with, there are 6 ladders of minimal length that transform SUMMER into WINTER. Listed in lexicographic order, they are:\n",
    "\n",
    "    SUMMER SUMMED BUMMED BUMPED LUMPED LIMPED LISPED LISTED LISTER MISTER MINTER WINTER\n",
    "    SUMMER SUMMED BUMMED BUMPED LUMPED LIMPED LISPED LISTED MISTED MINTED MINTER WINTER\n",
    "    SUMMER SUMMED BUMMED BUMPED LUMPED LIMPED LISPED LISTED MISTED MISTER MINTER WINTER\n",
    "    SUMMER SUMMED HUMMED HUMPED LUMPED LIMPED LISPED LISTED LISTER MISTER MINTER WINTER\n",
    "    SUMMER SUMMED HUMMED HUMPED LUMPED LIMPED LISPED LISTED MISTED MINTED MINTER WINTER\n",
    "    SUMMER SUMMED HUMMED HUMPED LUMPED LIMPED LISPED LISTED MISTED MISTER MINTER WINTER\n",
    "    \n",
    "They can be represented as a tree, either graphically:\n",
    "\n",
    "![](Illustrations/tree_1.pdf)\n",
    "\n",
    "or textually:\n",
    "\n",
    "    SUMMER SUMMED BUMMED BUMPED LUMPED LIMPED LISPED LISTED LISTER MISTER MINTER WINTER\n",
    "                                                            MISTED MINTED MINTER WINTER\n",
    "                                                                   MISTER MINTER WINTER\n",
    "                  HUMMED HUMPED LUMPED LIMPED LISPED LISTED LISTER MISTER MINTER WINTER\n",
    "                                                            MISTED MINTED MINTER WINTER\n",
    "                                                                   MISTER MINTER WINTER\n",
    "\n",
    "Note that a word cannot occur on different levels of the tree. The tree can be pruned by removing all descendants of a node labeled with a word that occurs many times except for its leftmost occurrence (it suffices to \"look left\" on the same level to find the word and its descendants). Graphically:\n",
    "\n",
    "![](Illustrations/tree_2.pdf)\n",
    "\n",
    "Textually:\n",
    "\n",
    "    SUMMER SUMMED BUMMED BUMPED LUMPED LIMPED LISPED LISTED LISTER MISTER MINTER WINTER\n",
    "                                                            MISTED MINTED MINTER\n",
    "                                                                   MISTER\n",
    "                  HUMMED HUMPED LUMPED\n",
    "\n",
    "To discover word ladders, it is useful to first build a Python dictionary with words in the given dictionary as keys, and with as value for a given key $w$ the set of words that differ from $w$ by exactly one letter, hence, that can possibly follow $w$ in a word ladder. For instance, w.r.t. the given dictionary, WINTER is one of the keys of the Python dictionary with as value, the set consisting of the words MINTER, WINDER, WINKER and WINNER.\n"
   ]
  },
  {
   "cell_type": "markdown",
   "metadata": {},
   "source": [
    "## Task"
   ]
  },
  {
   "cell_type": "markdown",
   "metadata": {},
   "source": [
    "Write a program `word_ladders.py` that implements two classes, `WordsForLadders` and `WordLadders`.\n",
    "\n",
    "* `WordsForLadder` is a subclass of the `defaultdict` class from the `collections` module, meant to have `set` objects as values. `WordsForLadder`'s `__init__(self, dictionary=dictionary.txt)` function takes as second argument the name of a file, set by default to `'dictionary.txt'`, supposed to be stored in the working directory and record uppercase words, one word per line. A `WordsForLadder` object has the words in the dictionary as keys, and as value for a given the key the set of words in the dictionary that differ from the key by exactly one letter.\n",
    "* `WordLadders`'s `__init__(self, words_for_ladders, start_word, end_word)` function takes as second, third and fourth arguments a `WordsForLadder` object, a word meant to start a ladder, and a word meant to end a ladder, respectively. Both words are intended to be converted to uppercase before processing. A `WordLadders` object has (at least) two attributes:\n",
    "    * `all_ladders()`, that returns the lexicographically ordered list of all ladders, a ladder being itself a list of words;\n",
    "    * `pruned_tree_representation()` that returns `None` and displays the pruned tree of all ladders."
   ]
  },
  {
   "cell_type": "markdown",
   "metadata": {},
   "source": [
    "## Tests"
   ]
  },
  {
   "cell_type": "markdown",
   "metadata": {},
   "source": [
    "### SUMMER neighbouring words"
   ]
  },
  {
   "cell_type": "markdown",
   "metadata": {},
   "source": [
    "Defining the command to execute and test:"
   ]
  },
  {
   "cell_type": "code",
   "execution_count": null,
   "metadata": {},
   "outputs": [],
   "source": [
    "statements = \"'from word_ladders import *; \"\\\n",
    "             \"print(sorted(WordsForLadders()[\\\"SUMMER\\\"]))'\"\n",
    "%env COMMAND_TO_EXECUTE=python3 -c $statements"
   ]
  },
  {
   "cell_type": "markdown",
   "metadata": {},
   "source": [
    "Executing the command and capturing its output:"
   ]
  },
  {
   "cell_type": "code",
   "execution_count": null,
   "metadata": {},
   "outputs": [],
   "source": [
    "execute_command"
   ]
  },
  {
   "cell_type": "markdown",
   "metadata": {},
   "source": [
    "Examining the output:"
   ]
  },
  {
   "cell_type": "code",
   "execution_count": null,
   "metadata": {
    "scrolled": true
   },
   "outputs": [],
   "source": [
    "test_against(\"['SIMMER', 'SUMMED', 'SUMNER', 'SUMTER']\\n\")"
   ]
  },
  {
   "cell_type": "markdown",
   "metadata": {},
   "source": [
    "### WINTER neighbouring words"
   ]
  },
  {
   "cell_type": "markdown",
   "metadata": {},
   "source": [
    "Defining the command to execute and test:"
   ]
  },
  {
   "cell_type": "code",
   "execution_count": null,
   "metadata": {},
   "outputs": [],
   "source": [
    "statements = \"'from word_ladders import *; \"\\\n",
    "             \"print(sorted(WordsForLadders()[\\\"WINTER\\\"]))'\"\n",
    "%env COMMAND_TO_EXECUTE=python3 -c $statements"
   ]
  },
  {
   "cell_type": "markdown",
   "metadata": {},
   "source": [
    "Executing the command and capturing its output:"
   ]
  },
  {
   "cell_type": "code",
   "execution_count": null,
   "metadata": {},
   "outputs": [],
   "source": [
    "execute_command"
   ]
  },
  {
   "cell_type": "markdown",
   "metadata": {},
   "source": [
    "Examining the output:"
   ]
  },
  {
   "cell_type": "code",
   "execution_count": null,
   "metadata": {
    "scrolled": true
   },
   "outputs": [],
   "source": [
    "test_against(\"['MINTER', 'WINDER', 'WINKER', 'WINNER']\\n\")"
   ]
  },
  {
   "cell_type": "markdown",
   "metadata": {},
   "source": [
    "### All ladders from COLD to WARM"
   ]
  },
  {
   "cell_type": "markdown",
   "metadata": {},
   "source": [
    "Defining the command to execute and test:"
   ]
  },
  {
   "cell_type": "code",
   "execution_count": null,
   "metadata": {},
   "outputs": [],
   "source": [
    "statements = \"'from word_ladders import *; \"\\\n",
    "             \"wl = WordLadders(WordsForLadders(), \"\\\n",
    "                                              \"\\\"COLD\\\", \\\"WARM\\\"); \"\\\n",
    "             \"print(\\\"\\\\n\\\".join(\\\" \\\".join(l) for l in wl.all_ladders()))'\"\n",
    "%env COMMAND_TO_EXECUTE=python3 -c $statements"
   ]
  },
  {
   "cell_type": "markdown",
   "metadata": {},
   "source": [
    "Executing the command and capturing its output:"
   ]
  },
  {
   "cell_type": "code",
   "execution_count": null,
   "metadata": {},
   "outputs": [],
   "source": [
    "execute_command"
   ]
  },
  {
   "cell_type": "markdown",
   "metadata": {},
   "source": [
    "Examining the output:"
   ]
  },
  {
   "cell_type": "code",
   "execution_count": null,
   "metadata": {
    "scrolled": false
   },
   "outputs": [],
   "source": [
    "test_against('COLD CORD CARD WARD WARM\\n'\n",
    "             'COLD CORD WORD WARD WARM\\n'\n",
    "             'COLD CORD WORD WORM WARM\\n'\n",
    "            )"
   ]
  },
  {
   "cell_type": "markdown",
   "metadata": {},
   "source": [
    "### Pruned tree of ladders from COLD to WARM"
   ]
  },
  {
   "cell_type": "markdown",
   "metadata": {},
   "source": [
    "Defining the command to execute and test:"
   ]
  },
  {
   "cell_type": "code",
   "execution_count": null,
   "metadata": {},
   "outputs": [],
   "source": [
    "statements = \"'from word_ladders import *; \"\\\n",
    "             \"wl = WordLadders(WordsForLadders(), \"\\\n",
    "                                              \"\\\"COLD\\\", \\\"WARM\\\"); \"\\\n",
    "             \"wl.pruned_tree_representation()'\"\n",
    "%env COMMAND_TO_EXECUTE=python3 -c $statements"
   ]
  },
  {
   "cell_type": "markdown",
   "metadata": {},
   "source": [
    "Executing the command and capturing its output:"
   ]
  },
  {
   "cell_type": "code",
   "execution_count": null,
   "metadata": {},
   "outputs": [],
   "source": [
    "execute_command"
   ]
  },
  {
   "cell_type": "markdown",
   "metadata": {},
   "source": [
    "Examining the output:"
   ]
  },
  {
   "cell_type": "code",
   "execution_count": null,
   "metadata": {
    "scrolled": false
   },
   "outputs": [],
   "source": [
    "test_against('COLD CORD CARD WARD WARM\\n'\n",
    "             '          WORD WARD\\n'\n",
    "             '               WORM WARM\\n'\n",
    "            )"
   ]
  },
  {
   "cell_type": "markdown",
   "metadata": {},
   "source": [
    "### All ladders from THREE to SEVEN"
   ]
  },
  {
   "cell_type": "markdown",
   "metadata": {},
   "source": [
    "Defining the command to execute and test:"
   ]
  },
  {
   "cell_type": "code",
   "execution_count": null,
   "metadata": {},
   "outputs": [],
   "source": [
    "statements = \"'from word_ladders import *; \"\\\n",
    "             \"wl = WordLadders(WordsForLadders(), \"\\\n",
    "                                              \"\\\"three\\\", \\\"seven\\\"); \"\\\n",
    "             \"print(wl.all_ladders())'\"\n",
    "%env COMMAND_TO_EXECUTE=python3 -c $statements"
   ]
  },
  {
   "cell_type": "markdown",
   "metadata": {},
   "source": [
    "Executing the command and capturing its output:"
   ]
  },
  {
   "cell_type": "code",
   "execution_count": null,
   "metadata": {},
   "outputs": [],
   "source": [
    "execute_command"
   ]
  },
  {
   "cell_type": "markdown",
   "metadata": {},
   "source": [
    "Examining the output:"
   ]
  },
  {
   "cell_type": "code",
   "execution_count": null,
   "metadata": {
    "scrolled": false
   },
   "outputs": [],
   "source": [
    "test_against(\"[['THREE', 'THREW', 'SHREW', 'SHRED', 'SIRED', 'SITED', \"\n",
    "               \"'SATED', 'SAVED', 'SAVER', 'SEVER', 'SEVEN']]\\n\"\n",
    "            )"
   ]
  },
  {
   "cell_type": "markdown",
   "metadata": {},
   "source": [
    "### All ladders from BEER to WINE"
   ]
  },
  {
   "cell_type": "markdown",
   "metadata": {},
   "source": [
    "Defining the command to execute and test:"
   ]
  },
  {
   "cell_type": "code",
   "execution_count": null,
   "metadata": {},
   "outputs": [],
   "source": [
    "statements = \"'from word_ladders import *; \"\\\n",
    "             \"wl = WordLadders(WordsForLadders(), \"\\\n",
    "                                              \"\\\"BEER\\\", \\\"WINE\\\"); \"\\\n",
    "             \"print(\\\"\\\\n\\\".join(\\\" \\\".join(l) for l in wl.all_ladders()))'\"\n",
    "%env COMMAND_TO_EXECUTE=python3 -c $statements"
   ]
  },
  {
   "cell_type": "markdown",
   "metadata": {},
   "source": [
    "Executing the command and capturing its output:"
   ]
  },
  {
   "cell_type": "code",
   "execution_count": null,
   "metadata": {},
   "outputs": [],
   "source": [
    "execute_command"
   ]
  },
  {
   "cell_type": "markdown",
   "metadata": {},
   "source": [
    "Examining the output:"
   ]
  },
  {
   "cell_type": "code",
   "execution_count": null,
   "metadata": {
    "scrolled": false
   },
   "outputs": [],
   "source": [
    "test_against('BEER BEAR BEAD BEND BIND WIND WINE\\n'\n",
    "             'BEER BEES BEDS BIDS BIDE WIDE WINE\\n'\n",
    "             'BEER BEES BEDS BIDS BINS WINS WINE\\n'\n",
    "             'BEER BEES BETS BITS BINS WINS WINE\\n'\n",
    "             'BEER BEES BETS BITS WITS WINS WINE\\n'\n",
    "             'BEER BEES BETS WETS WITS WINS WINE\\n'\n",
    "             'BEER BEET BENT BEND BIND WIND WINE\\n'\n",
    "             'BEER BEET BENT DENT DINT DINE WINE\\n'\n",
    "             'BEER BEET BENT LENT LINT LINE WINE\\n'\n",
    "             'BEER BEET BENT PENT PINT PINE WINE\\n'\n",
    "             'BEER BEET BENT WENT WANT WANE WINE\\n'\n",
    "             'BEER BIER PIER PIES PINS PINE WINE\\n'\n",
    "             'BEER BIER PIER PIES PINS WINS WINE\\n'\n",
    "             'BEER BIER TIER TIES TINS WINS WINE\\n'\n",
    "             'BEER PEER PIER PIES PINS PINE WINE\\n'\n",
    "             'BEER PEER PIER PIES PINS WINS WINE\\n'\n",
    "            )"
   ]
  },
  {
   "cell_type": "markdown",
   "metadata": {},
   "source": [
    "### Pruned tree of ladders from BEER to WINE"
   ]
  },
  {
   "cell_type": "markdown",
   "metadata": {},
   "source": [
    "Defining the command to execute and test:"
   ]
  },
  {
   "cell_type": "code",
   "execution_count": null,
   "metadata": {},
   "outputs": [],
   "source": [
    "statements = \"'from word_ladders import *; \"\\\n",
    "             \"wl = WordLadders(WordsForLadders(), \"\\\n",
    "                                              \"\\\"BEER\\\", \\\"WINE\\\"); \"\\\n",
    "             \"wl.pruned_tree_representation()'\"\n",
    "%env COMMAND_TO_EXECUTE=python3 -c $statements"
   ]
  },
  {
   "cell_type": "markdown",
   "metadata": {},
   "source": [
    "Executing the command and capturing its output:"
   ]
  },
  {
   "cell_type": "code",
   "execution_count": null,
   "metadata": {},
   "outputs": [],
   "source": [
    "execute_command"
   ]
  },
  {
   "cell_type": "markdown",
   "metadata": {},
   "source": [
    "Examining the output:"
   ]
  },
  {
   "cell_type": "code",
   "execution_count": null,
   "metadata": {
    "scrolled": false
   },
   "outputs": [],
   "source": [
    "test_against('BEER BEAR BEAD BEND BIND WIND WINE\\n'\n",
    "             '     BEES BEDS BIDS BIDE WIDE WINE\\n'\n",
    "             '                    BINS WINS WINE\\n'\n",
    "             '          BETS BITS BINS\\n'\n",
    "             '                    WITS WINS\\n'\n",
    "             '               WETS WITS\\n'\n",
    "             '     BEET BENT BEND\\n'\n",
    "             '               DENT DINT DINE WINE\\n'\n",
    "             '               LENT LINT LINE WINE\\n'\n",
    "             '               PENT PINT PINE WINE\\n'\n",
    "             '               WENT WANT WANE WINE\\n'\n",
    "             '     BIER PIER PIES PINS PINE\\n'\n",
    "             '                         WINS\\n'\n",
    "             '          TIER TIES TINS WINS\\n'\n",
    "             '     PEER PIER\\n'\n",
    "            )"
   ]
  },
  {
   "cell_type": "markdown",
   "metadata": {},
   "source": [
    "### All ladders from TRAIN to BIKES"
   ]
  },
  {
   "cell_type": "markdown",
   "metadata": {},
   "source": [
    "Defining the command to execute and test:"
   ]
  },
  {
   "cell_type": "code",
   "execution_count": null,
   "metadata": {},
   "outputs": [],
   "source": [
    "statements = \"'from word_ladders import *; \"\\\n",
    "             \"wl = WordLadders(WordsForLadders()\"\\\n",
    "                                            \", \\\"TRAIN\\\", \\\"BIKES\\\"); \"\\\n",
    "             \"print(\\\"\\\\n\\\".join(\\\" \\\".join(l) for l in wl.all_ladders()))'\"\n",
    "%env COMMAND_TO_EXECUTE=python3 -c $statements"
   ]
  },
  {
   "cell_type": "markdown",
   "metadata": {},
   "source": [
    "Executing the command, letting it run for up to 20 seconds, and capturing its output:"
   ]
  },
  {
   "cell_type": "code",
   "execution_count": null,
   "metadata": {},
   "outputs": [],
   "source": [
    "env MAX_RUNNING_TIME 200"
   ]
  },
  {
   "cell_type": "code",
   "execution_count": null,
   "metadata": {},
   "outputs": [],
   "source": [
    "execute_command"
   ]
  },
  {
   "cell_type": "markdown",
   "metadata": {},
   "source": [
    "Examining the output:"
   ]
  },
  {
   "cell_type": "code",
   "execution_count": null,
   "metadata": {
    "scrolled": false
   },
   "outputs": [],
   "source": [
    "test_against('TRAIN BRAIN BRAWN BROWN BROWS CROWS CROPS COOPS CORPS CORES BORES BARES BAKES BIKES\\n'\n",
    "             'TRAIN BRAIN BRAWN BROWN BROWS CROWS CROPS COOPS CORPS CORES CARES BARES BAKES BIKES\\n'\n",
    "             'TRAIN BRAIN BRAWN BROWN BROWS CROWS CROPS COOPS CORPS CORES CARES CAKES BAKES BIKES\\n'\n",
    "             'TRAIN BRAIN BRAWN BROWN BROWS CROWS CROPS COOPS CORPS CORES COKES CAKES BAKES BIKES\\n'\n",
    "             'TRAIN BRAIN BRAWN BROWN BROWS CROWS CROPS COOPS CORPS CORES COKES POKES PIKES BIKES\\n'\n",
    "             'TRAIN BRAIN BRAWN BROWN BROWS CROWS CROPS COOPS CORPS CORES PORES POKES PIKES BIKES\\n'\n",
    "             'TRAIN BRAIN BRAWN BROWN CROWN CROWS CROPS COOPS CORPS CORES BORES BARES BAKES BIKES\\n'\n",
    "             'TRAIN BRAIN BRAWN BROWN CROWN CROWS CROPS COOPS CORPS CORES CARES BARES BAKES BIKES\\n'\n",
    "             'TRAIN BRAIN BRAWN BROWN CROWN CROWS CROPS COOPS CORPS CORES CARES CAKES BAKES BIKES\\n'\n",
    "             'TRAIN BRAIN BRAWN BROWN CROWN CROWS CROPS COOPS CORPS CORES COKES CAKES BAKES BIKES\\n'\n",
    "             'TRAIN BRAIN BRAWN BROWN CROWN CROWS CROPS COOPS CORPS CORES COKES POKES PIKES BIKES\\n'\n",
    "             'TRAIN BRAIN BRAWN BROWN CROWN CROWS CROPS COOPS CORPS CORES PORES POKES PIKES BIKES\\n'\n",
    "             'TRAIN DRAIN DRAWN DRAWS DRAGS BRAGS BRATS BEATS BELTS BELLS BALLS BALES BAKES BIKES\\n'\n",
    "             'TRAIN DRAIN DRAWN DRAWS DRAGS BRAGS BRATS BEATS BESTS BUSTS BUSES BASES BAKES BIKES\\n'\n",
    "             'TRAIN DRAIN DRAWN DROWN CROWN CROWS CROPS COOPS CORPS CORES BORES BARES BAKES BIKES\\n'\n",
    "             'TRAIN DRAIN DRAWN DROWN CROWN CROWS CROPS COOPS CORPS CORES CARES BARES BAKES BIKES\\n'\n",
    "             'TRAIN DRAIN DRAWN DROWN CROWN CROWS CROPS COOPS CORPS CORES CARES CAKES BAKES BIKES\\n'\n",
    "             'TRAIN DRAIN DRAWN DROWN CROWN CROWS CROPS COOPS CORPS CORES COKES CAKES BAKES BIKES\\n'\n",
    "             'TRAIN DRAIN DRAWN DROWN CROWN CROWS CROPS COOPS CORPS CORES COKES POKES PIKES BIKES\\n'\n",
    "             'TRAIN DRAIN DRAWN DROWN CROWN CROWS CROPS COOPS CORPS CORES PORES POKES PIKES BIKES\\n'\n",
    "             'TRAIN GRAIN GROIN GROWN CROWN CROWS CROPS COOPS CORPS CORES BORES BARES BAKES BIKES\\n'\n",
    "             'TRAIN GRAIN GROIN GROWN CROWN CROWS CROPS COOPS CORPS CORES CARES BARES BAKES BIKES\\n'\n",
    "             'TRAIN GRAIN GROIN GROWN CROWN CROWS CROPS COOPS CORPS CORES CARES CAKES BAKES BIKES\\n'\n",
    "             'TRAIN GRAIN GROIN GROWN CROWN CROWS CROPS COOPS CORPS CORES COKES CAKES BAKES BIKES\\n'\n",
    "             'TRAIN GRAIN GROIN GROWN CROWN CROWS CROPS COOPS CORPS CORES COKES POKES PIKES BIKES\\n'\n",
    "             'TRAIN GRAIN GROIN GROWN CROWN CROWS CROPS COOPS CORPS CORES PORES POKES PIKES BIKES\\n'\n",
    "             'TRAIN GRAIN GROIN GROWN GROWS CROWS CROPS COOPS CORPS CORES BORES BARES BAKES BIKES\\n'\n",
    "             'TRAIN GRAIN GROIN GROWN GROWS CROWS CROPS COOPS CORPS CORES CARES BARES BAKES BIKES\\n'\n",
    "             'TRAIN GRAIN GROIN GROWN GROWS CROWS CROPS COOPS CORPS CORES CARES CAKES BAKES BIKES\\n'\n",
    "             'TRAIN GRAIN GROIN GROWN GROWS CROWS CROPS COOPS CORPS CORES COKES CAKES BAKES BIKES\\n'\n",
    "             'TRAIN GRAIN GROIN GROWN GROWS CROWS CROPS COOPS CORPS CORES COKES POKES PIKES BIKES\\n'\n",
    "             'TRAIN GRAIN GROIN GROWN GROWS CROWS CROPS COOPS CORPS CORES PORES POKES PIKES BIKES\\n'\n",
    "            )"
   ]
  },
  {
   "cell_type": "markdown",
   "metadata": {},
   "source": [
    "### Pruned tree of ladders from TRAIN to BIKES"
   ]
  },
  {
   "cell_type": "markdown",
   "metadata": {},
   "source": [
    "Defining the command to execute and test:"
   ]
  },
  {
   "cell_type": "code",
   "execution_count": null,
   "metadata": {},
   "outputs": [],
   "source": [
    "statements = \"'from word_ladders import *; \"\\\n",
    "             \"wl = WordLadders(WordsForLadders(), \"\\\n",
    "                                              \"\\\"TRAIN\\\", \\\"BIKES\\\"); \"\\\n",
    "             \"wl.pruned_tree_representation()'\"\n",
    "%env COMMAND_TO_EXECUTE=python3 -c $statements"
   ]
  },
  {
   "cell_type": "markdown",
   "metadata": {},
   "source": [
    "Executing the command, letting it run up to 20 seconds, and capturing its output:"
   ]
  },
  {
   "cell_type": "code",
   "execution_count": null,
   "metadata": {},
   "outputs": [],
   "source": [
    "execute_command"
   ]
  },
  {
   "cell_type": "markdown",
   "metadata": {},
   "source": [
    "Examining the output:"
   ]
  },
  {
   "cell_type": "code",
   "execution_count": null,
   "metadata": {
    "scrolled": false
   },
   "outputs": [],
   "source": [
    "test_against('TRAIN BRAIN BRAWN BROWN BROWS CROWS CROPS COOPS CORPS CORES BORES BARES BAKES BIKES\\n'\n",
    "             '                                                            CARES BARES\\n'\n",
    "             '                                                                  CAKES BAKES\\n'\n",
    "             '                                                            COKES CAKES\\n'\n",
    "             '                                                                  POKES PIKES BIKES\\n'\n",
    "             '                                                            PORES POKES\\n'\n",
    "             '                        CROWN CROWS\\n'\n",
    "             '      DRAIN DRAWN DRAWS DRAGS BRAGS BRATS BEATS BELTS BELLS BALLS BALES BAKES\\n'\n",
    "             '                                                BESTS BUSTS BUSES BASES BAKES\\n'\n",
    "             '                  DROWN CROWN\\n'\n",
    "             '      GRAIN GROIN GROWN CROWN\\n'\n",
    "             '                        GROWS CROWS\\n'\n",
    "            )"
   ]
  }
 ],
 "metadata": {
  "kernelspec": {
   "display_name": "Python 3",
   "language": "python",
   "name": "python3"
  },
  "language_info": {
   "codemirror_mode": {
    "name": "ipython",
    "version": 3
   },
   "file_extension": ".py",
   "mimetype": "text/x-python",
   "name": "python",
   "nbconvert_exporter": "python",
   "pygments_lexer": "ipython3",
   "version": "3.8.2"
  },
  "latex_envs": {
   "LaTeX_envs_menu_present": true,
   "autoclose": false,
   "autocomplete": true,
   "bibliofile": "biblio.bib",
   "cite_by": "apalike",
   "current_citInitial": 1,
   "eqLabelWithNumbers": true,
   "eqNumInitial": 1,
   "hotkeys": {
    "equation": "Ctrl-E",
    "itemize": "Ctrl-I"
   },
   "labels_anchors": false,
   "latex_user_defs": false,
   "report_style_numbering": false,
   "user_envs_cfg": false
  },
  "toc": {
   "base_numbering": 1,
   "nav_menu": {},
   "number_sections": true,
   "sideBar": true,
   "skip_h1_title": false,
   "title_cell": "Table of Contents",
   "title_sidebar": "Contents",
   "toc_cell": false,
   "toc_position": {},
   "toc_section_display": true,
   "toc_window_display": false
  }
 },
 "nbformat": 4,
 "nbformat_minor": 4
}
