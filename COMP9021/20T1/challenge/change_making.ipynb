{
 "cells": [
  {
   "cell_type": "code",
   "execution_count": null,
   "metadata": {},
   "outputs": [],
   "source": [
    "%store -r execute_command\n",
    "%store -r import_testing_environment"
   ]
  },
  {
   "cell_type": "code",
   "execution_count": null,
   "metadata": {},
   "outputs": [],
   "source": [
    "import_testing_environment"
   ]
  },
  {
   "cell_type": "markdown",
   "metadata": {},
   "source": [
    "Max running time and max output size in deciseconds and bytes, respectively."
   ]
  },
  {
   "cell_type": "code",
   "execution_count": null,
   "metadata": {},
   "outputs": [],
   "source": [
    "env MAX_RUNNING_TIME 10"
   ]
  },
  {
   "cell_type": "code",
   "execution_count": null,
   "metadata": {},
   "outputs": [],
   "source": [
    "env MAX_OUTPUT_SIZE 1000"
   ]
  },
  {
   "cell_type": "markdown",
   "metadata": {},
   "source": [
    "## Background"
   ]
  },
  {
   "cell_type": "markdown",
   "metadata": {},
   "source": [
    "Given a number of face values $v_1$, ..., $v_k$ with $v_1<\\dots v_k$, $n_1$ coins with face value $\\$v_1$, ..., $n_k$ coins with face value $\\$v_k$, and a positive integer $x$, we want to get all combinations of available coins that amount to $\\$ x$ with the minimal of coins (there can be no solution, a unique solution, or many solutions). This can be solved using dynamic programming, thanks to an approach that we illustrate for the case where we have at least two coins with face value $\\$1$, exactly two coins with face value $\\$2$, at least three coins with face value $\\$3$, at least one coin with face value $\\$5$, and a desired amount of $\\$9$. The approach consists in creating in one way or another part of the table below, line by line, from top to bottom. The entries in the superdiagonal (that is, the cells at the intersection of the $\\$1$ row and the $\\$1$ column,  at the intersection of the $\\$2$ row and the $\\$2$ column, ...), give the solutions for all amounts between $\\$1$ and $\\$9$:\n",
    "\n",
    "* For $\\$1$, there is a unique solution, namely, one $\\$1$ coin.\n",
    "* For $\\$2$, there is a unique solution, namely, one $\\$2$ coin.\n",
    "* For $\\$3$, there is a unique solution, namely, one $\\$3$ coin.\n",
    "* For $\\$4$, there is are 2 solutions, namely, one $\\$1$ coin and one $\\$3$ coin, or two $\\$2$ coins.\n",
    "* ...\n",
    "* For $\\$9$, there is are 3 solutions, namely, one $\\$1$ coin, one $\\$3$ coin and one $\\$5$ coin, or two $\\$2$ coins and one $\\$5$ coin, or three $\\$3$ coins.\n",
    "\n",
    "So the last entry in the second diagonal gives the desired solution.\n",
    "\n",
    "All other values in the table yield all ways to obtain an amount of $\\$y$ from an amount of $\\$y-\\$1$, $\\$y-\\$2$, $\\$y-\\$3$ and $\\$y-\\$5$, by adding to each of those amounts $\\$1$, $\\$2$, $\\$3$ and $\\$5$, respectively:\n",
    "\n",
    "* To obtain $\\$1$, add $\\$1$ to all solutions for an amount of $\\$0$, resulting in one $\\$1$ coin. This yields a unique solution of one $\\$1$ coin. \n",
    "* To obtain $\\$2$,\n",
    "  * add $\\$2$ to all solutions for an amount of $\\$0$, resulting in one $\\$2$ coin;\n",
    "  * add $\\$1$ to all solutions for an amount of $\\$1$, resulting in two $\\$1$ coins.\n",
    "\n",
    "  This yields a unique solution of one $\\$2$ coin. \n",
    "* To obtain $\\$3$,\n",
    "  * add $\\$3$ to all solutions for an amount of $\\$0$, resulting in one $\\$3$ coin;\n",
    "  * add $\\$2$ to all solutions for an amount of $\\$1$, resulting in one $\\$1$ coin and one $\\$2$ coin;\n",
    "  * add $\\$1$ to all solutions for an amount of $\\$2$, resulting in one $\\$1$ coin and one $\\$2$ coin.\n",
    "\n",
    "  This yields a unique solution of one $\\$3$ coin. \n",
    "* To obtain $\\$4$,\n",
    "  * add $\\$3$ to all solutions for an amount of $\\$1$, resulting in one $\\$1$ coin and one $\\$3$ coin;\n",
    "  * add $\\$2$ to all solutions for an amount of $\\$2$, resulting in two $\\$2$ coins;\n",
    "  * add $\\$1$ to all solutions for an amount of $\\$3$, resulting in one $\\$1$ coin and one $\\$3$ coin.\n",
    "\n",
    "  This yields two solutions of one $\\$1$ coin and one $\\$3$ coin coin, or two $\\$2$ coins.\n",
    "* ...\n",
    "* To obtain $\\$9$,\n",
    "  * add $\\$5$ to all solutions for an amount of $\\$4$, resulting in one $\\$1$ coin, one $\\$3$ coin and one $\\$5$ coin, or in two $\\$2$ coins and one $\\$5$ coin;\n",
    "  * add $\\$3$ to all solutions for an amount of $\\$6$, resulting in one $\\$1$ coin, one $\\$3$ coin and one $\\$5$ coin, or in three $\\$3$ coins;\n",
    "  * add $\\$2$ to all solutions for an amount of $\\$7$, resulting in two $\\$2$ coins and one $\\$5$ coin;\n",
    "  * add $\\$1$ to all solutions for an amount of $\\$8$, resulting in one $\\$1$ coin, one $\\$3$ coin and one $\\$5$ coin.\n",
    "\n",
    "  This yields three solutions of one $\\$1$ coin, one $\\$3$ coin and one $\\$5$ coin, or two $\\$2$ coins and one $\\$5$ coin, or three $\\$3$ coins.\n",
    "\n",
    "Note that the two solutions for an amount of $\\$4$, namely, either one $\\$1$ coin and one $\\$3$ coin or two $\\$2$ coins, result in only one solution to an amount of $\\$6$, namely, one $\\$1$ coin, one $\\$2$ coin and one $\\$3$ coin, because there are only two $\\$2$ coins available.\n",
    "\n",
    "|Amount|\\\\$0                 |\\\\$1                 |\\\\$2                 |\\\\$3                 |\\\\$4                 |\\\\$5                 |\\\\$6                 |\\\\$7                 |\\\\$8                 |\\\\$9                 |\n",
    "| ---- | ------------------- | ------------------- | ------------------- | ------------------- | ------------------- | ------------------- | ------------------- | ------------------- | ------------------- | ------------------- |\n",
    "| \\\\$1 |1\\\\$1                |1\\\\$1                |                     |                     |                     |                     |                     |                     |                     |                     |\n",
    "| \\\\$2 |1\\\\$2                |2\\\\$1                |1\\\\$2                |                     |                     |                     |                     |                     |                     |                     |\n",
    "| \\\\$3 |1\\\\$3                |1\\\\$1+1\\\\$2          |1\\\\$1+1\\\\$2          |1\\\\$3                |                     |                     |                     |                     |                     |                     |\n",
    "| \\\\$4 |                     |1\\\\$1+1\\\\$3          |2\\\\$2                |1\\\\$1+1\\\\$3          |1\\\\$1+1\\\\$3           |                     |                     |                     |                     |                     |\n",
    "|      |                     |                     |                     |                     |2\\\\$2                 |                     |                     |                     |                     |                     |\n",
    "| \\\\$5 |1\\\\$5                |                     |1\\\\$2+1\\\\$3          |1\\\\$2+1\\\\$3          |2\\\\$1+1\\\\$3           |1\\\\$5                |                     |                     |                     |                     |\n",
    "|      |                     |                      |                     |                    |1\\\\$1+2\\\\$2           |                     |                     |                     |                     |                     |\n",
    "| \\\\$6 |                     |1\\\\$1+1\\\\$5           |                     |2\\\\$3               |1\\\\$1+1\\\\$2+1\\\\$3     |1\\\\$1+1\\\\$5          |1\\\\$1+1\\\\$5          |                     |                     |                     |\n",
    "|      |                     |                      |                     |                    |                     |                     |2\\\\$3                |                     |                     |                     |\n",
    "| \\\\$7 |                     |                     |1\\\\$2+1\\\\$5           |                    |1\\\\$1+2\\\\$3           |1\\\\$2+1\\\\$5          |2\\\\$1+1\\\\$5          |1\\\\$2+1\\\\$5          |                     |                     |\n",
    "|      |                     |                      |                     |                    |2\\\\$2+1\\\\$3           |                     |1\\\\$1+2\\\\$3          |                     |                     |                     |\n",
    "| \\\\$8 |                     |                     |                     |1\\\\$3+1\\\\$5          |                     |1\\\\$3+1\\\\$5          |1\\\\$1+1\\\\$2+1\\\\$5    |1\\\\$1+1\\\\$2+1\\\\$5    |1\\\\$3+1\\\\$5          |                     |\n",
    "|      |                     |                      |                     |                    |                     |                     |1\\\\$2+2\\\\$3          |                     |                     |                     |\n",
    "| \\\\$9 |                     |                     |                     |                     |1\\\\$1+1\\\\$3+1\\\\$5     |                     |1\\\\$1+1\\\\$3+1\\\\$5    |2\\\\$2+1\\\\$5          |1\\\\$1+1\\\\$3+1\\\\$5    |1\\\\$1+1\\\\$3+1\\\\$5    |\n",
    "|      |                     |                     |                     |                     |2\\\\$2+1\\\\$5           |                     |3\\\\$3                |                     |                     |2\\\\$2+1\\\\$5          |\n",
    "|      |                     |                     |                     |                     |                     |                     |                     |                     |                     |3\\\\$3                |"
   ]
  },
  {
   "cell_type": "markdown",
   "metadata": {},
   "source": [
    "## Task"
   ]
  },
  {
   "cell_type": "markdown",
   "metadata": {},
   "source": [
    "Write a program `change_making.py` that prompts the user for:\n",
    "\n",
    "* a dictionary whose keys represent coin face values, with as value for a given key the number of coins that are available for the corresponding face value,\n",
    "* a desired amount\n",
    "\n",
    "and ouputs whether there is no way, a unique way, or how many ways there are if that is at least two, to get that amount from the available coins. In case there is at least one solution, all solutions are output too.\n",
    "\n",
    "* Face values for a given solution are ordered from smallest to largest.\n",
    "* Solutions, in case there are at least two of them, are output in lexicographic order.\n",
    "* Face values are right aligned.\n",
    "\n",
    "The `literal_eval()` function from the `ast` module might prove useful."
   ]
  },
  {
   "cell_type": "markdown",
   "metadata": {},
   "source": [
    "## Tests"
   ]
  },
  {
   "cell_type": "markdown",
   "metadata": {},
   "source": [
    "### Data for which there is no solution."
   ]
  },
  {
   "cell_type": "markdown",
   "metadata": {},
   "source": [
    "Defining the command to execute and test:"
   ]
  },
  {
   "cell_type": "code",
   "execution_count": null,
   "metadata": {},
   "outputs": [],
   "source": [
    "env COMMAND_TO_EXECUTE echo {2: 100, 50: 100}\\n99 | python3 change_making.py"
   ]
  },
  {
   "cell_type": "markdown",
   "metadata": {},
   "source": [
    "Executing the command and capturing its output:"
   ]
  },
  {
   "cell_type": "code",
   "execution_count": null,
   "metadata": {},
   "outputs": [],
   "source": [
    "execute_command"
   ]
  },
  {
   "cell_type": "markdown",
   "metadata": {},
   "source": [
    "Examining the output:"
   ]
  },
  {
   "cell_type": "code",
   "execution_count": null,
   "metadata": {},
   "outputs": [],
   "source": [
    "test_against('Input a dictionary whose keys represent coin face values\\n'\n",
    "             'with as value for a given key the number of coins\\n'\n",
    "             'that are available for the corresponding face value:\\n'\n",
    "             '    ', '{2: 100, 50: 100}\\n',\n",
    "             'Input the desired amount: ', '99\\n',\n",
    "             '\\n'\n",
    "             'There is no solution.\\n'\n",
    "            )"
   ]
  },
  {
   "cell_type": "markdown",
   "metadata": {},
   "source": [
    "### A case for which there is a unique solution."
   ]
  },
  {
   "cell_type": "code",
   "execution_count": null,
   "metadata": {},
   "outputs": [],
   "source": [
    "user_input = '{1: 30, 20: 30, 50: 30}\\\\n60'\n",
    "%env COMMAND_TO_EXECUTE=echo $user_input | python3 change_making.py"
   ]
  },
  {
   "cell_type": "markdown",
   "metadata": {},
   "source": [
    "Executing the command and capturing its output:"
   ]
  },
  {
   "cell_type": "code",
   "execution_count": null,
   "metadata": {},
   "outputs": [],
   "source": [
    "execute_command"
   ]
  },
  {
   "cell_type": "markdown",
   "metadata": {},
   "source": [
    "Examining the output:"
   ]
  },
  {
   "cell_type": "code",
   "execution_count": null,
   "metadata": {},
   "outputs": [],
   "source": [
    "test_against('Input a dictionary whose keys represent coin face values\\n'\n",
    "             'with as value for a given key the number of coins\\n'\n",
    "             'that are available for the corresponding face value:\\n'\n",
    "             '    ', '{1: 30, 20: 30, 50: 30}\\n',\n",
    "             'Input the desired amount: ', '60\\n',\n",
    "             '\\n'\n",
    "             'There is a unique solution:\\n'\n",
    "             '$20: 3\\n'\n",
    "            )"
   ]
  },
  {
   "cell_type": "markdown",
   "metadata": {},
   "source": [
    "### A case for which there are 2 solutions."
   ]
  },
  {
   "cell_type": "code",
   "execution_count": null,
   "metadata": {},
   "outputs": [],
   "source": [
    "user_input = '{1: 100, 2: 5, 3: 4, 10: 5, 20: 4, 30: 1}\\\\n107'\n",
    "%env COMMAND_TO_EXECUTE=echo $user_input | python3 change_making.py"
   ]
  },
  {
   "cell_type": "markdown",
   "metadata": {},
   "source": [
    "Executing the command and capturing its output:"
   ]
  },
  {
   "cell_type": "code",
   "execution_count": null,
   "metadata": {},
   "outputs": [],
   "source": [
    "execute_command"
   ]
  },
  {
   "cell_type": "markdown",
   "metadata": {},
   "source": [
    "Examining the output:"
   ]
  },
  {
   "cell_type": "code",
   "execution_count": null,
   "metadata": {},
   "outputs": [],
   "source": [
    "test_against('Input a dictionary whose keys represent coin face values\\n'\n",
    "             'with as value for a given key the number of coins\\n'\n",
    "             'that are available for the corresponding face value:\\n'\n",
    "             '    ', '{1: 100, 2: 5, 3: 4, 10: 5, 20: 4, 30: 1}\\n',\n",
    "             'Input the desired amount: ', '107\\n',\n",
    "             '\\n'\n",
    "             'There are 2 solutions:\\n'\n",
    "             ' $1: 1\\n'\n",
    "             ' $3: 2\\n'\n",
    "             '$10: 1\\n'\n",
    "             '$20: 3\\n'\n",
    "             '$30: 1\\n'\n",
    "             '\\n'\n",
    "             ' $2: 2\\n'\n",
    "             ' $3: 1\\n'\n",
    "             '$10: 1\\n'\n",
    "             '$20: 3\\n'\n",
    "             '$30: 1\\n'            \n",
    "            )"
   ]
  },
  {
   "cell_type": "markdown",
   "metadata": {},
   "source": [
    "### A case for which there are 4 solutions."
   ]
  },
  {
   "cell_type": "code",
   "execution_count": null,
   "metadata": {},
   "outputs": [],
   "source": [
    "user_input = '{1 : 7,  2 : 5,  3 : 4,  4 : 3,  5 : 2}\\\\n29'\n",
    "%env COMMAND_TO_EXECUTE=echo $user_input | python3 change_making.py"
   ]
  },
  {
   "cell_type": "markdown",
   "metadata": {},
   "source": [
    "Executing the command and capturing its output:"
   ]
  },
  {
   "cell_type": "code",
   "execution_count": null,
   "metadata": {},
   "outputs": [],
   "source": [
    "execute_command"
   ]
  },
  {
   "cell_type": "markdown",
   "metadata": {},
   "source": [
    "Examining the output:"
   ]
  },
  {
   "cell_type": "code",
   "execution_count": null,
   "metadata": {},
   "outputs": [],
   "source": [
    "test_against('Input a dictionary whose keys represent coin face values\\n'\n",
    "             'with as value for a given key the number of coins\\n'\n",
    "             'that are available for the corresponding face value:\\n'\n",
    "             '    ', '{1 : 7,  2 : 5,  3 : 4,  4 : 3,  5 : 2}\\n',\n",
    "             'Input the desired amount: ', '29\\n',\n",
    "             '\\n'\n",
    "             'There are 4 solutions:\\n'\n",
    "             '$1: 1\\n'\n",
    "             '$3: 2\\n'\n",
    "             '$4: 3\\n'\n",
    "             '$5: 2\\n'\n",
    "             '\\n'\n",
    "             '$2: 1\\n'\n",
    "             '$3: 3\\n'\n",
    "             '$4: 2\\n'\n",
    "             '$5: 2\\n'\n",
    "             '\\n'\n",
    "             '$2: 2\\n'\n",
    "             '$3: 1\\n'\n",
    "             '$4: 3\\n'\n",
    "             '$5: 2\\n'\n",
    "             '\\n'\n",
    "             '$3: 4\\n'\n",
    "             '$4: 3\\n'\n",
    "             '$5: 1\\n'            \n",
    "            )"
   ]
  },
  {
   "cell_type": "markdown",
   "metadata": {},
   "source": [
    "### A case for which there are 8 solutions."
   ]
  },
  {
   "cell_type": "code",
   "execution_count": null,
   "metadata": {},
   "outputs": [],
   "source": [
    "user_input = '{11:34, 12:34, 13:234, 17:44, 18:54, 19:3}\\\\n3422'\n",
    "%env COMMAND_TO_EXECUTE=echo $user_input | python3 change_making.py"
   ]
  },
  {
   "cell_type": "markdown",
   "metadata": {},
   "source": [
    "Executing the command and capturing its output:"
   ]
  },
  {
   "cell_type": "code",
   "execution_count": null,
   "metadata": {},
   "outputs": [],
   "source": [
    "execute_command"
   ]
  },
  {
   "cell_type": "markdown",
   "metadata": {},
   "source": [
    "Examining the output:"
   ]
  },
  {
   "cell_type": "code",
   "execution_count": null,
   "metadata": {},
   "outputs": [],
   "source": [
    "test_against('Input a dictionary whose keys represent coin face values\\n'\n",
    "             'with as value for a given key the number of coins\\n'\n",
    "             'that are available for the corresponding face value:\\n'\n",
    "             '    ', '{11:34, 12:34, 13:234, 17:44, 18:54, 19:3}\\n',\n",
    "             'Input the desired amount: ', '3422\\n',\n",
    "             '\\n'\n",
    "             'There are 8 solutions:\\n'\n",
    "             '$11: 1\\n'\n",
    "             '$12: 4\\n'\n",
    "             '$13: 122\\n'\n",
    "             '$17: 44\\n'\n",
    "             '$18: 54\\n'\n",
    "             '$19: 3\\n'\n",
    "             '\\n'\n",
    "             '$11: 1\\n'\n",
    "             '$13: 127\\n'\n",
    "             '$17: 43\\n'\n",
    "             '$18: 54\\n'\n",
    "             '$19: 3\\n'\n",
    "             '\\n'\n",
    "             '$11: 2\\n'\n",
    "             '$12: 2\\n'\n",
    "             '$13: 123\\n'\n",
    "             '$17: 44\\n'\n",
    "             '$18: 54\\n'\n",
    "             '$19: 3\\n'\n",
    "             '\\n'\n",
    "             '$11: 3\\n'\n",
    "             '$13: 124\\n'\n",
    "             '$17: 44\\n'\n",
    "             '$18: 54\\n'\n",
    "             '$19: 3\\n'\n",
    "             '\\n'\n",
    "             '$12: 1\\n'\n",
    "             '$13: 127\\n'\n",
    "             '$17: 44\\n'\n",
    "             '$18: 53\\n'\n",
    "             '$19: 3\\n'\n",
    "             '\\n'\n",
    "             '$12: 2\\n'\n",
    "             '$13: 126\\n'\n",
    "             '$17: 43\\n'\n",
    "             '$18: 54\\n'\n",
    "             '$19: 3\\n'\n",
    "             '\\n'\n",
    "             '$12: 6\\n'\n",
    "             '$13: 121\\n'\n",
    "             '$17: 44\\n'\n",
    "             '$18: 54\\n'\n",
    "             '$19: 3\\n'\n",
    "             '\\n'\n",
    "             '$13: 128\\n'\n",
    "             '$17: 44\\n'\n",
    "             '$18: 54\\n'\n",
    "             '$19: 2\\n'            \n",
    "            )"
   ]
  }
 ],
 "metadata": {
  "kernelspec": {
   "display_name": "Python 3",
   "language": "python",
   "name": "python3"
  },
  "language_info": {
   "codemirror_mode": {
    "name": "ipython",
    "version": 3
   },
   "file_extension": ".py",
   "mimetype": "text/x-python",
   "name": "python",
   "nbconvert_exporter": "python",
   "pygments_lexer": "ipython3",
   "version": "3.8.0"
  },
  "latex_envs": {
   "LaTeX_envs_menu_present": true,
   "autoclose": false,
   "autocomplete": true,
   "bibliofile": "biblio.bib",
   "cite_by": "apalike",
   "current_citInitial": 1,
   "eqLabelWithNumbers": true,
   "eqNumInitial": 1,
   "hotkeys": {
    "equation": "Ctrl-E",
    "itemize": "Ctrl-I"
   },
   "labels_anchors": false,
   "latex_user_defs": false,
   "report_style_numbering": false,
   "user_envs_cfg": false
  },
  "toc": {
   "base_numbering": 1,
   "nav_menu": {},
   "number_sections": true,
   "sideBar": true,
   "skip_h1_title": false,
   "title_cell": "Table of Contents",
   "title_sidebar": "Contents",
   "toc_cell": false,
   "toc_position": {},
   "toc_section_display": true,
   "toc_window_display": false
  }
 },
 "nbformat": 4,
 "nbformat_minor": 4
}
