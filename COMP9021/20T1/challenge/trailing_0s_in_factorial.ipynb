{
 "cells": [
  {
   "cell_type": "code",
   "execution_count": null,
   "metadata": {},
   "outputs": [],
   "source": [
    "%store -r execute_command\n",
    "%store -r import_testing_environment"
   ]
  },
  {
   "cell_type": "code",
   "execution_count": null,
   "metadata": {},
   "outputs": [],
   "source": [
    "import_testing_environment"
   ]
  },
  {
   "cell_type": "markdown",
   "metadata": {},
   "source": [
    "Max running time and max output size in deciseconds and bytes, respectively."
   ]
  },
  {
   "cell_type": "code",
   "execution_count": null,
   "metadata": {},
   "outputs": [],
   "source": [
    "env MAX_RUNNING_TIME 10"
   ]
  },
  {
   "cell_type": "code",
   "execution_count": null,
   "metadata": {},
   "outputs": [],
   "source": [
    "env MAX_OUTPUT_SIZE 100"
   ]
  },
  {
   "cell_type": "markdown",
   "metadata": {},
   "source": [
    "## Background"
   ]
  },
  {
   "cell_type": "markdown",
   "metadata": {},
   "source": [
    "$15!$, the factorial of $15$, is equal to 1307674368000, hence has 3 trailing 0s.\n",
    "\n",
    "There are at least three methods to compute the number of trailing 0s in the factorial of a number $x$ at least equal to 5:\n",
    "\n",
    "* Divide $x!$ by 10 for as long as it yields no remainder.\n",
    "* Convert $x!$ to a string and find the rightmost occurrence of a character different to `'0'`.\n",
    "* Python computes huge numbers such as $1000!$, either iteratively multiplying all numbers from 1 up to 1000 or using the `factorial()` function from the `math` module, and the first two methods work for such numbers, but there is a much better method that operates on $x$ rather $x!$, hence that does not suffer the limitations of the first two, and is very efficient. The number of trailing 0s in $x!$ is equal to the number of times $x!$ is a multiple of 10, so to the number of times $x!$ is a multiple of $2\\times 5$. It is easy to verify that $x!$ has at least as many multiples of 2 as multiples of 5. Hence the number of trailing 0s in $x!$\n",
    "    * is equal to the number of times $x!$ is a multiple of 5\n",
    "    * which is equal to the number of times $5$ occurs in the prime decompositions of 1, 2, ..., $x-1$ and $x$\n",
    "    * which is equal to the number of times $5$ occurs at least once in the prime decompositions of 1, 2, ..., $x-1$ and $x$, plus the number of times $5$ occurs at least twice in the prime decompositions of 1, 2, \\dots, $x-1$ and $x$, plus the number of times $5$ occurs at least thrice in the prime decompositions of 1, 2, ..., $x-1$ and $x$...\n",
    "    * which is equal to the number of multiples of 5 at most equal to $x$, plus the number of multiples of $5^2$ at most equal to $x$, plus the number of multiples of $5^3$ at most equal to $x$..."
   ]
  },
  {
   "cell_type": "markdown",
   "metadata": {},
   "source": [
    "## Task"
   ]
  },
  {
   "cell_type": "markdown",
   "metadata": {},
   "source": [
    "Write a program `trailing_0s_in_factorial.py` with three functions, `first_computation(x)`, `second_computation(x)` and `third_computation(x)` that computes $x!$ using the first, second and third methods previously described, respectively. Each function displays a message indicating which method it follows and returns the result."
   ]
  },
  {
   "cell_type": "markdown",
   "metadata": {},
   "source": [
    "## Tests"
   ]
  },
  {
   "cell_type": "markdown",
   "metadata": {},
   "source": [
    "### Number of trailing 0s in 3! computed using the first method"
   ]
  },
  {
   "cell_type": "markdown",
   "metadata": {},
   "source": [
    "Defining the command to execute and test:"
   ]
  },
  {
   "cell_type": "code",
   "execution_count": null,
   "metadata": {},
   "outputs": [],
   "source": [
    "statements = \"'from trailing_0s_in_factorial import first_computation; \"\\\n",
    "             \"print(first_computation(3))'\"\n",
    "%env COMMAND_TO_EXECUTE=python3 -c $statements"
   ]
  },
  {
   "cell_type": "markdown",
   "metadata": {},
   "source": [
    "Executing the command and capturing its output:"
   ]
  },
  {
   "cell_type": "code",
   "execution_count": null,
   "metadata": {},
   "outputs": [],
   "source": [
    "execute_command"
   ]
  },
  {
   "cell_type": "markdown",
   "metadata": {},
   "source": [
    "Examining the output:"
   ]
  },
  {
   "cell_type": "code",
   "execution_count": null,
   "metadata": {},
   "outputs": [],
   "source": [
    "test_against('Computing the number of trailing 0s in 3! '\n",
    "             'dividing by 10 for long enough...\\n'\n",
    "             '0\\n'\n",
    "            )"
   ]
  },
  {
   "cell_type": "markdown",
   "metadata": {},
   "source": [
    "### Number of trailing 0s in 3! computed using the second method"
   ]
  },
  {
   "cell_type": "markdown",
   "metadata": {},
   "source": [
    "Defining the command to execute and test:"
   ]
  },
  {
   "cell_type": "code",
   "execution_count": null,
   "metadata": {},
   "outputs": [],
   "source": [
    "statements = \"'from trailing_0s_in_factorial import second_computation; \"\\\n",
    "             \"print(second_computation(3))'\"\n",
    "%env COMMAND_TO_EXECUTE=python3 -c $statements"
   ]
  },
  {
   "cell_type": "markdown",
   "metadata": {},
   "source": [
    "Executing the command and capturing its output:"
   ]
  },
  {
   "cell_type": "code",
   "execution_count": null,
   "metadata": {},
   "outputs": [],
   "source": [
    "execute_command"
   ]
  },
  {
   "cell_type": "markdown",
   "metadata": {},
   "source": [
    "Examining the output:"
   ]
  },
  {
   "cell_type": "code",
   "execution_count": null,
   "metadata": {
    "scrolled": true
   },
   "outputs": [],
   "source": [
    "test_against('Computing the number of trailing 0s in 3! '\n",
    "             'by convertion to a string...\\n'\n",
    "             '0\\n'\n",
    "            )"
   ]
  },
  {
   "cell_type": "markdown",
   "metadata": {},
   "source": [
    "### Number of trailing 0s in 3! computed using the third method"
   ]
  },
  {
   "cell_type": "markdown",
   "metadata": {},
   "source": [
    "Defining the command to execute and test:"
   ]
  },
  {
   "cell_type": "code",
   "execution_count": null,
   "metadata": {},
   "outputs": [],
   "source": [
    "statements = \"'from trailing_0s_in_factorial import third_computation; \"\\\n",
    "             \"print(third_computation(3))'\"\n",
    "%env COMMAND_TO_EXECUTE=python3 -c $statements"
   ]
  },
  {
   "cell_type": "markdown",
   "metadata": {},
   "source": [
    "Executing the command and capturing its output:"
   ]
  },
  {
   "cell_type": "code",
   "execution_count": null,
   "metadata": {},
   "outputs": [],
   "source": [
    "execute_command"
   ]
  },
  {
   "cell_type": "markdown",
   "metadata": {},
   "source": [
    "Examining the output:"
   ]
  },
  {
   "cell_type": "code",
   "execution_count": null,
   "metadata": {
    "scrolled": false
   },
   "outputs": [],
   "source": [
    "test_against('Computing the number of trailing 0s in 3! the smart way...\\n'\n",
    "             '0\\n'\n",
    "            )"
   ]
  },
  {
   "cell_type": "markdown",
   "metadata": {},
   "source": [
    "### Number of trailing 0s in 15! computed using the first method"
   ]
  },
  {
   "cell_type": "markdown",
   "metadata": {},
   "source": [
    "Defining the command to execute and test:"
   ]
  },
  {
   "cell_type": "code",
   "execution_count": null,
   "metadata": {},
   "outputs": [],
   "source": [
    "statements = \"'from trailing_0s_in_factorial import first_computation; \"\\\n",
    "             \"print(first_computation(15))'\"\n",
    "%env COMMAND_TO_EXECUTE=python3 -c $statements"
   ]
  },
  {
   "cell_type": "markdown",
   "metadata": {},
   "source": [
    "Executing the command and capturing its output:"
   ]
  },
  {
   "cell_type": "code",
   "execution_count": null,
   "metadata": {},
   "outputs": [],
   "source": [
    "execute_command"
   ]
  },
  {
   "cell_type": "markdown",
   "metadata": {},
   "source": [
    "Examining the output:"
   ]
  },
  {
   "cell_type": "code",
   "execution_count": null,
   "metadata": {},
   "outputs": [],
   "source": [
    "test_against('Computing the number of trailing 0s in 15! '\n",
    "             'dividing by 10 for long enough...\\n'\n",
    "             '3\\n'\n",
    "            )"
   ]
  },
  {
   "cell_type": "markdown",
   "metadata": {},
   "source": [
    "### Number of trailing 0s in 15! computed using the second method"
   ]
  },
  {
   "cell_type": "markdown",
   "metadata": {},
   "source": [
    "Defining the command to execute and test:"
   ]
  },
  {
   "cell_type": "code",
   "execution_count": null,
   "metadata": {},
   "outputs": [],
   "source": [
    "statements = \"'from trailing_0s_in_factorial import second_computation; \"\\\n",
    "             \"print(second_computation(15))'\"\n",
    "%env COMMAND_TO_EXECUTE=python3 -c $statements"
   ]
  },
  {
   "cell_type": "markdown",
   "metadata": {},
   "source": [
    "Executing the command and capturing its output:"
   ]
  },
  {
   "cell_type": "code",
   "execution_count": null,
   "metadata": {},
   "outputs": [],
   "source": [
    "execute_command"
   ]
  },
  {
   "cell_type": "markdown",
   "metadata": {},
   "source": [
    "Examining the output:"
   ]
  },
  {
   "cell_type": "code",
   "execution_count": null,
   "metadata": {
    "scrolled": true
   },
   "outputs": [],
   "source": [
    "test_against('Computing the number of trailing 0s in 15! '\n",
    "             'by convertion to a string...\\n'\n",
    "             '3\\n'\n",
    "            )"
   ]
  },
  {
   "cell_type": "markdown",
   "metadata": {},
   "source": [
    "### Number of trailing 0s in 15! computed using the third method"
   ]
  },
  {
   "cell_type": "markdown",
   "metadata": {},
   "source": [
    "Defining the command to execute and test:"
   ]
  },
  {
   "cell_type": "code",
   "execution_count": null,
   "metadata": {},
   "outputs": [],
   "source": [
    "statements = \"'from trailing_0s_in_factorial import third_computation; \"\\\n",
    "             \"print(third_computation(15))'\"\n",
    "%env COMMAND_TO_EXECUTE=python3 -c $statements"
   ]
  },
  {
   "cell_type": "markdown",
   "metadata": {},
   "source": [
    "Executing the command and capturing its output:"
   ]
  },
  {
   "cell_type": "code",
   "execution_count": null,
   "metadata": {},
   "outputs": [],
   "source": [
    "execute_command"
   ]
  },
  {
   "cell_type": "markdown",
   "metadata": {},
   "source": [
    "Examining the output:"
   ]
  },
  {
   "cell_type": "code",
   "execution_count": null,
   "metadata": {
    "scrolled": true
   },
   "outputs": [],
   "source": [
    "test_against('Computing the number of trailing 0s in 15! the smart way...\\n'\n",
    "             '3\\n'\n",
    "            )"
   ]
  },
  {
   "cell_type": "markdown",
   "metadata": {},
   "source": [
    "### Number of trailing 0s in 345! computed using the first method"
   ]
  },
  {
   "cell_type": "markdown",
   "metadata": {},
   "source": [
    "Defining the command to execute and test:"
   ]
  },
  {
   "cell_type": "code",
   "execution_count": null,
   "metadata": {},
   "outputs": [],
   "source": [
    "statements = \"'from trailing_0s_in_factorial import first_computation; \"\\\n",
    "             \"print(first_computation(345))'\"\n",
    "%env COMMAND_TO_EXECUTE=python3 -c $statements"
   ]
  },
  {
   "cell_type": "markdown",
   "metadata": {},
   "source": [
    "Executing the command and capturing its output:"
   ]
  },
  {
   "cell_type": "code",
   "execution_count": null,
   "metadata": {},
   "outputs": [],
   "source": [
    "execute_command"
   ]
  },
  {
   "cell_type": "markdown",
   "metadata": {},
   "source": [
    "Examining the output:"
   ]
  },
  {
   "cell_type": "code",
   "execution_count": null,
   "metadata": {},
   "outputs": [],
   "source": [
    "test_against('Computing the number of trailing 0s in 345! '\n",
    "             'dividing by 10 for long enough...\\n'\n",
    "             '84\\n'\n",
    "            )"
   ]
  },
  {
   "cell_type": "markdown",
   "metadata": {},
   "source": [
    "### Number of trailing 0s in 345! computed using the second method"
   ]
  },
  {
   "cell_type": "markdown",
   "metadata": {},
   "source": [
    "Defining the command to execute and test:"
   ]
  },
  {
   "cell_type": "code",
   "execution_count": null,
   "metadata": {},
   "outputs": [],
   "source": [
    "statements = \"'from trailing_0s_in_factorial import second_computation; \"\\\n",
    "             \"print(second_computation(345))'\"\n",
    "%env COMMAND_TO_EXECUTE=python3 -c $statements"
   ]
  },
  {
   "cell_type": "markdown",
   "metadata": {},
   "source": [
    "Executing the command and capturing its output:"
   ]
  },
  {
   "cell_type": "code",
   "execution_count": null,
   "metadata": {},
   "outputs": [],
   "source": [
    "execute_command"
   ]
  },
  {
   "cell_type": "markdown",
   "metadata": {},
   "source": [
    "Examining the output:"
   ]
  },
  {
   "cell_type": "code",
   "execution_count": null,
   "metadata": {
    "scrolled": true
   },
   "outputs": [],
   "source": [
    "test_against('Computing the number of trailing 0s in 345! '\n",
    "             'by convertion to a string...\\n'\n",
    "             '84\\n'\n",
    "            )"
   ]
  },
  {
   "cell_type": "markdown",
   "metadata": {},
   "source": [
    "### Number of trailing 0s in 345! computed using the third method"
   ]
  },
  {
   "cell_type": "markdown",
   "metadata": {},
   "source": [
    "Defining the command to execute and test:"
   ]
  },
  {
   "cell_type": "code",
   "execution_count": null,
   "metadata": {},
   "outputs": [],
   "source": [
    "statements = \"'from trailing_0s_in_factorial import third_computation; \"\\\n",
    "             \"print(third_computation(345))'\"\n",
    "%env COMMAND_TO_EXECUTE=python3 -c $statements"
   ]
  },
  {
   "cell_type": "markdown",
   "metadata": {},
   "source": [
    "Executing the command and capturing its output:"
   ]
  },
  {
   "cell_type": "code",
   "execution_count": null,
   "metadata": {},
   "outputs": [],
   "source": [
    "execute_command"
   ]
  },
  {
   "cell_type": "markdown",
   "metadata": {},
   "source": [
    "Examining the output:"
   ]
  },
  {
   "cell_type": "code",
   "execution_count": null,
   "metadata": {
    "scrolled": true
   },
   "outputs": [],
   "source": [
    "test_against('Computing the number of trailing 0s in 345! the smart way...\\n'\n",
    "             '84\\n'\n",
    "            )"
   ]
  },
  {
   "cell_type": "markdown",
   "metadata": {},
   "source": [
    "### Number of trailing 0s in 1000! computed using the first method"
   ]
  },
  {
   "cell_type": "markdown",
   "metadata": {},
   "source": [
    "Defining the command to execute and test:"
   ]
  },
  {
   "cell_type": "code",
   "execution_count": null,
   "metadata": {},
   "outputs": [],
   "source": [
    "statements = \"'from trailing_0s_in_factorial import first_computation; \"\\\n",
    "             \"print(first_computation(1000))'\"\n",
    "%env COMMAND_TO_EXECUTE=python3 -c $statements"
   ]
  },
  {
   "cell_type": "markdown",
   "metadata": {},
   "source": [
    "Executing the command and capturing its output:"
   ]
  },
  {
   "cell_type": "code",
   "execution_count": null,
   "metadata": {},
   "outputs": [],
   "source": [
    "execute_command"
   ]
  },
  {
   "cell_type": "markdown",
   "metadata": {},
   "source": [
    "Examining the output:"
   ]
  },
  {
   "cell_type": "code",
   "execution_count": null,
   "metadata": {},
   "outputs": [],
   "source": [
    "test_against('Computing the number of trailing 0s in 1000! '\n",
    "             'dividing by 10 for long enough...\\n'\n",
    "             '249\\n'\n",
    "            )"
   ]
  },
  {
   "cell_type": "markdown",
   "metadata": {},
   "source": [
    "### Number of trailing 0s in 1000! computed using the second method"
   ]
  },
  {
   "cell_type": "markdown",
   "metadata": {},
   "source": [
    "Defining the command to execute and test:"
   ]
  },
  {
   "cell_type": "code",
   "execution_count": null,
   "metadata": {},
   "outputs": [],
   "source": [
    "statements = \"'from trailing_0s_in_factorial import second_computation; \"\\\n",
    "             \"print(second_computation(1000))'\"\n",
    "%env COMMAND_TO_EXECUTE=python3 -c $statements"
   ]
  },
  {
   "cell_type": "markdown",
   "metadata": {},
   "source": [
    "Executing the command and capturing its output:"
   ]
  },
  {
   "cell_type": "code",
   "execution_count": null,
   "metadata": {},
   "outputs": [],
   "source": [
    "execute_command"
   ]
  },
  {
   "cell_type": "markdown",
   "metadata": {},
   "source": [
    "Examining the output:"
   ]
  },
  {
   "cell_type": "code",
   "execution_count": null,
   "metadata": {
    "scrolled": true
   },
   "outputs": [],
   "source": [
    "test_against('Computing the number of trailing 0s in 1000! '\n",
    "             'by convertion to a string...\\n'\n",
    "             '249\\n'\n",
    "            )"
   ]
  },
  {
   "cell_type": "markdown",
   "metadata": {},
   "source": [
    "### Number of trailing 0s in 1000! computed using the third method"
   ]
  },
  {
   "cell_type": "markdown",
   "metadata": {},
   "source": [
    "Defining the command to execute and test:"
   ]
  },
  {
   "cell_type": "code",
   "execution_count": null,
   "metadata": {},
   "outputs": [],
   "source": [
    "statements = \"'from trailing_0s_in_factorial import third_computation; \"\\\n",
    "             \"print(third_computation(1000))'\"\n",
    "%env COMMAND_TO_EXECUTE=python3 -c $statements"
   ]
  },
  {
   "cell_type": "markdown",
   "metadata": {},
   "source": [
    "Executing the command and capturing its output:"
   ]
  },
  {
   "cell_type": "code",
   "execution_count": null,
   "metadata": {},
   "outputs": [],
   "source": [
    "execute_command"
   ]
  },
  {
   "cell_type": "markdown",
   "metadata": {},
   "source": [
    "Examining the output:"
   ]
  },
  {
   "cell_type": "code",
   "execution_count": null,
   "metadata": {
    "scrolled": true
   },
   "outputs": [],
   "source": [
    "test_against('Computing the number of trailing 0s in 1000! the smart way...\\n'\n",
    "             '249\\n'\n",
    "            )"
   ]
  }
 ],
 "metadata": {
  "kernelspec": {
   "display_name": "Python 3",
   "language": "python",
   "name": "python3"
  },
  "language_info": {
   "codemirror_mode": {
    "name": "ipython",
    "version": 3
   },
   "file_extension": ".py",
   "mimetype": "text/x-python",
   "name": "python",
   "nbconvert_exporter": "python",
   "pygments_lexer": "ipython3",
   "version": "3.8.1"
  },
  "latex_envs": {
   "LaTeX_envs_menu_present": true,
   "autoclose": false,
   "autocomplete": true,
   "bibliofile": "biblio.bib",
   "cite_by": "apalike",
   "current_citInitial": 1,
   "eqLabelWithNumbers": true,
   "eqNumInitial": 1,
   "hotkeys": {
    "equation": "Ctrl-E",
    "itemize": "Ctrl-I"
   },
   "labels_anchors": false,
   "latex_user_defs": false,
   "report_style_numbering": false,
   "user_envs_cfg": false
  },
  "toc": {
   "base_numbering": 1,
   "nav_menu": {},
   "number_sections": true,
   "sideBar": true,
   "skip_h1_title": false,
   "title_cell": "Table of Contents",
   "title_sidebar": "Contents",
   "toc_cell": false,
   "toc_position": {},
   "toc_section_display": true,
   "toc_window_display": false
  }
 },
 "nbformat": 4,
 "nbformat_minor": 4
}
