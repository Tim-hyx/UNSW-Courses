{
 "cells": [
  {
   "cell_type": "code",
   "execution_count": null,
   "metadata": {},
   "outputs": [],
   "source": [
    "%store -r execute_command\n",
    "%store -r import_testing_environment"
   ]
  },
  {
   "cell_type": "code",
   "execution_count": null,
   "metadata": {},
   "outputs": [],
   "source": [
    "import_testing_environment"
   ]
  },
  {
   "cell_type": "markdown",
   "metadata": {},
   "source": [
    "Max running time and max output size in deciseconds and bytes, respectively."
   ]
  },
  {
   "cell_type": "code",
   "execution_count": null,
   "metadata": {},
   "outputs": [],
   "source": [
    "env MAX_RUNNING_TIME 10"
   ]
  },
  {
   "cell_type": "code",
   "execution_count": null,
   "metadata": {},
   "outputs": [],
   "source": [
    "env MAX_OUTPUT_SIZE 1000"
   ]
  },
  {
   "cell_type": "markdown",
   "metadata": {},
   "source": [
    "## Task"
   ]
  },
  {
   "cell_type": "markdown",
   "metadata": {},
   "source": [
    "Write a program `special_triples.py` that finds all triples of consecutive three-digit integers each of which is the sum of two squares, that is, all triples of the form $(n,n+1,n+2)$ such that:\n",
    "\n",
    "* $n$, $n+1$ and $n+2$ are integers at least equal to 100 and at most equal to 999;\n",
    "* each of $n$, $n+1$ and $n+2$ is of the form $a^2+b^2$.\n",
    "\n",
    "As we are not constrained by memory space for this problem, we might use a list that stores an integer for all indexes $n$ in $[100,999]$, equal to 1 in case $n$ is the sum of two squares, and to 0 otherwise. Then it is just a matter of finding three consecutive 1's in the list. This idea can be refined (by not storing 1s, but suitable nonzero values) to not only know that some number is of the form $a^2+b^2$, but also know such a pair $(a,b)$...\n",
    "\n",
    "If an integer $n$ is of the form $a^2+b^2$, then the decomposition is not necessarily unique. We want each decomposition that is output to be the minimal one w.r.t. the natural ordering of pairs of integers (that is, $(a,b)<(a',b')$ iff either $a<a'$ or $a=a'$ and $b<b'$)."
   ]
  },
  {
   "cell_type": "markdown",
   "metadata": {},
   "source": [
    "## Test"
   ]
  },
  {
   "cell_type": "markdown",
   "metadata": {},
   "source": [
    "Defining the command to execute and test:"
   ]
  },
  {
   "cell_type": "code",
   "execution_count": null,
   "metadata": {},
   "outputs": [],
   "source": [
    "env COMMAND_TO_EXECUTE python3 special_triples.py"
   ]
  },
  {
   "cell_type": "markdown",
   "metadata": {},
   "source": [
    "Executing the command and capturing its output:"
   ]
  },
  {
   "cell_type": "code",
   "execution_count": null,
   "metadata": {},
   "outputs": [],
   "source": [
    "execute_command"
   ]
  },
  {
   "cell_type": "markdown",
   "metadata": {},
   "source": [
    "Examining the output:"
   ]
  },
  {
   "cell_type": "code",
   "execution_count": null,
   "metadata": {},
   "outputs": [],
   "source": [
    "test_against(\n",
    "             '(144, 145, 146) (equal to (0^2+12^2, 1^2+12^2, 5^2+11^2)) '\n",
    "             'is a solution.\\n'\n",
    "             '(232, 233, 234) (equal to (6^2+14^2, 8^2+13^2, 3^2+15^2)) '\n",
    "             'is a solution.\\n'\n",
    "             '(288, 289, 290) (equal to (12^2+12^2, 0^2+17^2, 1^2+17^2)) '\n",
    "             'is a solution.\\n'\n",
    "             '(360, 361, 362) (equal to (6^2+18^2, 0^2+19^2, 1^2+19^2)) '\n",
    "             'is a solution.\\n'\n",
    "             '(520, 521, 522) (equal to (6^2+22^2, 11^2+20^2, 9^2+21^2)) '\n",
    "             'is a solution.\\n'\n",
    "             '(576, 577, 578) (equal to (0^2+24^2, 1^2+24^2, 7^2+23^2)) '\n",
    "             'is a solution.\\n'\n",
    "             '(584, 585, 586) (equal to (10^2+22^2, 3^2+24^2, 15^2+19^2)) '\n",
    "             'is a solution.\\n'\n",
    "             '(800, 801, 802) (equal to (4^2+28^2, 15^2+24^2, 19^2+21^2)) '\n",
    "             'is a solution.\\n'\n",
    "             '(808, 809, 810) (equal to (18^2+22^2, 5^2+28^2, 9^2+27^2)) '\n",
    "             'is a solution.\\n'\n",
    ")"
   ]
  }
 ],
 "metadata": {
  "kernelspec": {
   "display_name": "Python 3",
   "language": "python",
   "name": "python3"
  },
  "language_info": {
   "codemirror_mode": {
    "name": "ipython",
    "version": 3
   },
   "file_extension": ".py",
   "mimetype": "text/x-python",
   "name": "python",
   "nbconvert_exporter": "python",
   "pygments_lexer": "ipython3",
   "version": "3.8.0"
  },
  "latex_envs": {
   "LaTeX_envs_menu_present": true,
   "autoclose": false,
   "autocomplete": true,
   "bibliofile": "biblio.bib",
   "cite_by": "apalike",
   "current_citInitial": 1,
   "eqLabelWithNumbers": true,
   "eqNumInitial": 1,
   "hotkeys": {
    "equation": "Ctrl-E",
    "itemize": "Ctrl-I"
   },
   "labels_anchors": false,
   "latex_user_defs": false,
   "report_style_numbering": false,
   "user_envs_cfg": false
  },
  "toc": {
   "base_numbering": 1,
   "nav_menu": {},
   "number_sections": true,
   "sideBar": true,
   "skip_h1_title": false,
   "title_cell": "Table of Contents",
   "title_sidebar": "Contents",
   "toc_cell": false,
   "toc_position": {},
   "toc_section_display": true,
   "toc_window_display": false
  }
 },
 "nbformat": 4,
 "nbformat_minor": 4
}
