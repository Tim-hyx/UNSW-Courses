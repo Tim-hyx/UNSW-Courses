{
 "cells": [
  {
   "cell_type": "code",
   "execution_count": 1,
   "id": "sensitive-unknown",
   "metadata": {},
   "outputs": [
    {
     "data": {
      "text/html": [
       "<div>\n",
       "<style scoped>\n",
       "    .dataframe tbody tr th:only-of-type {\n",
       "        vertical-align: middle;\n",
       "    }\n",
       "\n",
       "    .dataframe tbody tr th {\n",
       "        vertical-align: top;\n",
       "    }\n",
       "\n",
       "    .dataframe thead th {\n",
       "        text-align: right;\n",
       "    }\n",
       "</style>\n",
       "<table border=\"1\" class=\"dataframe\">\n",
       "  <thead>\n",
       "    <tr style=\"text-align: right;\">\n",
       "      <th></th>\n",
       "      <th>A</th>\n",
       "      <th>B</th>\n",
       "      <th>C</th>\n",
       "      <th>D</th>\n",
       "    </tr>\n",
       "  </thead>\n",
       "  <tbody>\n",
       "    <tr>\n",
       "      <th>0</th>\n",
       "      <td>0.968991</td>\n",
       "      <td>-0.293947</td>\n",
       "      <td>-0.539234</td>\n",
       "      <td>0.826026</td>\n",
       "    </tr>\n",
       "    <tr>\n",
       "      <th>10</th>\n",
       "      <td>0.286867</td>\n",
       "      <td>0.231561</td>\n",
       "      <td>0.192478</td>\n",
       "      <td>1.615318</td>\n",
       "    </tr>\n",
       "    <tr>\n",
       "      <th>20</th>\n",
       "      <td>0.988118</td>\n",
       "      <td>-0.661635</td>\n",
       "      <td>-1.242088</td>\n",
       "      <td>0.800736</td>\n",
       "    </tr>\n",
       "    <tr>\n",
       "      <th>30</th>\n",
       "      <td>0.383270</td>\n",
       "      <td>-1.619227</td>\n",
       "      <td>-2.585905</td>\n",
       "      <td>1.760133</td>\n",
       "    </tr>\n",
       "    <tr>\n",
       "      <th>40</th>\n",
       "      <td>0.492791</td>\n",
       "      <td>-1.047192</td>\n",
       "      <td>-2.351263</td>\n",
       "      <td>2.101301</td>\n",
       "    </tr>\n",
       "    <tr>\n",
       "      <th>50</th>\n",
       "      <td>0.011622</td>\n",
       "      <td>-2.355309</td>\n",
       "      <td>-2.865316</td>\n",
       "      <td>1.687779</td>\n",
       "    </tr>\n",
       "    <tr>\n",
       "      <th>60</th>\n",
       "      <td>-0.327720</td>\n",
       "      <td>-2.363998</td>\n",
       "      <td>-3.723086</td>\n",
       "      <td>2.539104</td>\n",
       "    </tr>\n",
       "    <tr>\n",
       "      <th>70</th>\n",
       "      <td>-1.286115</td>\n",
       "      <td>-1.418216</td>\n",
       "      <td>-3.928770</td>\n",
       "      <td>2.943812</td>\n",
       "    </tr>\n",
       "    <tr>\n",
       "      <th>80</th>\n",
       "      <td>-1.309102</td>\n",
       "      <td>-1.501035</td>\n",
       "      <td>-3.518633</td>\n",
       "      <td>4.140183</td>\n",
       "    </tr>\n",
       "    <tr>\n",
       "      <th>90</th>\n",
       "      <td>0.236957</td>\n",
       "      <td>-1.349345</td>\n",
       "      <td>-3.021749</td>\n",
       "      <td>3.577948</td>\n",
       "    </tr>\n",
       "  </tbody>\n",
       "</table>\n",
       "</div>"
      ],
      "text/plain": [
       "           A         B         C         D\n",
       "0   0.968991 -0.293947 -0.539234  0.826026\n",
       "10  0.286867  0.231561  0.192478  1.615318\n",
       "20  0.988118 -0.661635 -1.242088  0.800736\n",
       "30  0.383270 -1.619227 -2.585905  1.760133\n",
       "40  0.492791 -1.047192 -2.351263  2.101301\n",
       "50  0.011622 -2.355309 -2.865316  1.687779\n",
       "60 -0.327720 -2.363998 -3.723086  2.539104\n",
       "70 -1.286115 -1.418216 -3.928770  2.943812\n",
       "80 -1.309102 -1.501035 -3.518633  4.140183\n",
       "90  0.236957 -1.349345 -3.021749  3.577948"
      ]
     },
     "execution_count": 1,
     "metadata": {},
     "output_type": "execute_result"
    }
   ],
   "source": [
    "import pandas as pd\n",
    "import numpy as np\n",
    "import matplotlib.pyplot as plt\n",
    "\n",
    "df = pd.DataFrame(np.random.randn(10, 4).cumsum(0), columns=['A', 'B', 'C', 'D'], index=np.arange(0, 100, 10))\n",
    "df"
   ]
  },
  {
   "cell_type": "code",
   "execution_count": 2,
   "id": "israeli-spending",
   "metadata": {},
   "outputs": [
    {
     "data": {
      "text/plain": [
       "<AxesSubplot:>"
      ]
     },
     "execution_count": 2,
     "metadata": {},
     "output_type": "execute_result"
    },
    {
     "data": {
      "image/png": "[encoded data removed]",
      "text/plain": [
       "<Figure size 432x288 with 1 Axes>"
      ]
     },
     "metadata": {
      "needs_background": "light"
     },
     "output_type": "display_data"
    }
   ],
   "source": [
    "df.plot()"
   ]
  },
  {
   "cell_type": "code",
   "execution_count": 3,
   "id": "dated-ceramic",
   "metadata": {
    "scrolled": true
   },
   "outputs": [
    {
     "data": {
      "text/html": [
       "<div>\n",
       "<style scoped>\n",
       "    .dataframe tbody tr th:only-of-type {\n",
       "        vertical-align: middle;\n",
       "    }\n",
       "\n",
       "    .dataframe tbody tr th {\n",
       "        vertical-align: top;\n",
       "    }\n",
       "\n",
       "    .dataframe thead th {\n",
       "        text-align: right;\n",
       "    }\n",
       "</style>\n",
       "<table border=\"1\" class=\"dataframe\">\n",
       "  <thead>\n",
       "    <tr style=\"text-align: right;\">\n",
       "      <th></th>\n",
       "      <th>country</th>\n",
       "      <th>year</th>\n",
       "      <th>unemployment</th>\n",
       "    </tr>\n",
       "  </thead>\n",
       "  <tbody>\n",
       "    <tr>\n",
       "      <th>0</th>\n",
       "      <td>USA</td>\n",
       "      <td>2015</td>\n",
       "      <td>6.4</td>\n",
       "    </tr>\n",
       "    <tr>\n",
       "      <th>1</th>\n",
       "      <td>Australia</td>\n",
       "      <td>2016</td>\n",
       "      <td>7.3</td>\n",
       "    </tr>\n",
       "    <tr>\n",
       "      <th>2</th>\n",
       "      <td>Canada</td>\n",
       "      <td>1994</td>\n",
       "      <td>8.2</td>\n",
       "    </tr>\n",
       "    <tr>\n",
       "      <th>3</th>\n",
       "      <td>Australia</td>\n",
       "      <td>1995</td>\n",
       "      <td>4.1</td>\n",
       "    </tr>\n",
       "    <tr>\n",
       "      <th>4</th>\n",
       "      <td>USA</td>\n",
       "      <td>2002</td>\n",
       "      <td>6.6</td>\n",
       "    </tr>\n",
       "    <tr>\n",
       "      <th>5</th>\n",
       "      <td>USA</td>\n",
       "      <td>1995</td>\n",
       "      <td>5.6</td>\n",
       "    </tr>\n",
       "    <tr>\n",
       "      <th>6</th>\n",
       "      <td>Canada</td>\n",
       "      <td>2008</td>\n",
       "      <td>5.2</td>\n",
       "    </tr>\n",
       "    <tr>\n",
       "      <th>7</th>\n",
       "      <td>Australia</td>\n",
       "      <td>2005</td>\n",
       "      <td>5.6</td>\n",
       "    </tr>\n",
       "    <tr>\n",
       "      <th>8</th>\n",
       "      <td>Canada</td>\n",
       "      <td>2015</td>\n",
       "      <td>5.0</td>\n",
       "    </tr>\n",
       "  </tbody>\n",
       "</table>\n",
       "</div>"
      ],
      "text/plain": [
       "     country  year  unemployment\n",
       "0        USA  2015           6.4\n",
       "1  Australia  2016           7.3\n",
       "2     Canada  1994           8.2\n",
       "3  Australia  1995           4.1\n",
       "4        USA  2002           6.6\n",
       "5        USA  1995           5.6\n",
       "6     Canada  2008           5.2\n",
       "7  Australia  2005           5.6\n",
       "8     Canada  2015           5.0"
      ]
     },
     "execution_count": 3,
     "metadata": {},
     "output_type": "execute_result"
    }
   ],
   "source": [
    "Data = {'country':['USA', 'Australia', 'Canada', 'Australia', 'USA', 'USA', 'Canada', 'Australia', 'Canada'], 'year':[2015, 2016, 1994, 1995, 2002, 1995, 2008, 2005, 2015], 'unemployment':[6.4, 7.3, 8.2, 4.1, 6.6, 5.6, 5.2, 5.6, 5]}\n",
    "df2 =pd.DataFrame(Data)\n",
    "\n",
    "\n",
    "df2"
   ]
  },
  {
   "cell_type": "code",
   "execution_count": 4,
   "id": "productive-primary",
   "metadata": {},
   "outputs": [
    {
     "data": {
      "text/plain": [
       "<AxesSubplot:>"
      ]
     },
     "execution_count": 4,
     "metadata": {},
     "output_type": "execute_result"
    },
    {
     "data": {
      "image/png": "[encoded data removed]",
      "text/plain": [
       "<Figure size 432x288 with 1 Axes>"
      ]
     },
     "metadata": {
      "needs_background": "light"
     },
     "output_type": "display_data"
    }
   ],
   "source": [
    "df2.plot()"
   ]
  },
  {
   "cell_type": "code",
   "execution_count": 6,
   "id": "desirable-tobacco",
   "metadata": {},
   "outputs": [
    {
     "data": {
      "text/plain": [
       "<AxesSubplot:ylabel='country'>"
      ]
     },
     "execution_count": 6,
     "metadata": {},
     "output_type": "execute_result"
    },
    {
     "data": {
      "image/png": "[encoded data removed]",
      "text/plain": [
       "<Figure size 432x288 with 1 Axes>"
      ]
     },
     "metadata": {
      "needs_background": "light"
     },
     "output_type": "display_data"
    }
   ],
   "source": [
    "df2.groupby(\"country\")['unemployment'].mean().plot(kind='barh')"
   ]
  },
  {
   "cell_type": "code",
   "execution_count": 7,
   "id": "experimental-highway",
   "metadata": {},
   "outputs": [
    {
     "data": {
      "text/plain": [
       "<AxesSubplot:xlabel='year'>"
      ]
     },
     "execution_count": 7,
     "metadata": {},
     "output_type": "execute_result"
    },
    {
     "data": {
      "image/png": "[encoded data removed]",
      "text/plain": [
       "<Figure size 432x288 with 1 Axes>"
      ]
     },
     "metadata": {
      "needs_background": "light"
     },
     "output_type": "display_data"
    }
   ],
   "source": [
    "df2.plot(x='year', y='unemployment')"
   ]
  },
  {
   "cell_type": "code",
   "execution_count": 8,
   "id": "representative-deployment",
   "metadata": {},
   "outputs": [
    {
     "data": {
      "text/plain": [
       "country\n",
       "Australia    AxesSubplot(0.125,0.125;0.775x0.755)\n",
       "Canada       AxesSubplot(0.125,0.125;0.775x0.755)\n",
       "USA          AxesSubplot(0.125,0.125;0.775x0.755)\n",
       "dtype: object"
      ]
     },
     "execution_count": 8,
     "metadata": {},
     "output_type": "execute_result"
    },
    {
     "data": {
      "image/png": "[encoded data removed]",
      "text/plain": [
       "<Figure size 432x288 with 1 Axes>"
      ]
     },
     "metadata": {
      "needs_background": "light"
     },
     "output_type": "display_data"
    }
   ],
   "source": [
    "\n",
    "fig, ax = plt.subplots()\n",
    "df2.groupby('country').plot(x='year', y='unemployment', ax=ax, legend= False)\n"
   ]
  },
  {
   "cell_type": "code",
   "execution_count": 9,
   "id": "hairy-killer",
   "metadata": {},
   "outputs": [
    {
     "data": {
      "text/html": [
       "<div>\n",
       "<style scoped>\n",
       "    .dataframe tbody tr th:only-of-type {\n",
       "        vertical-align: middle;\n",
       "    }\n",
       "\n",
       "    .dataframe tbody tr th {\n",
       "        vertical-align: top;\n",
       "    }\n",
       "\n",
       "    .dataframe thead th {\n",
       "        text-align: right;\n",
       "    }\n",
       "</style>\n",
       "<table border=\"1\" class=\"dataframe\">\n",
       "  <thead>\n",
       "    <tr style=\"text-align: right;\">\n",
       "      <th></th>\n",
       "      <th>Unnamed: 0</th>\n",
       "      <th>mod_date</th>\n",
       "      <th>pub_date</th>\n",
       "      <th>cvss</th>\n",
       "      <th>cwe_code</th>\n",
       "      <th>cwe_name</th>\n",
       "      <th>Unnamed: 6</th>\n",
       "    </tr>\n",
       "  </thead>\n",
       "  <tbody>\n",
       "    <tr>\n",
       "      <th>0</th>\n",
       "      <td>CVE-2019-16548</td>\n",
       "      <td>21/11/2019 15:15</td>\n",
       "      <td>21/11/2019 15:15</td>\n",
       "      <td>6.8</td>\n",
       "      <td>352</td>\n",
       "      <td>Cross-Site Request Forgery (CSRF)</td>\n",
       "      <td>NaN</td>\n",
       "    </tr>\n",
       "    <tr>\n",
       "      <th>1</th>\n",
       "      <td>CVE-2019-16547</td>\n",
       "      <td>21/11/2019 15:15</td>\n",
       "      <td>21/11/2019 15:15</td>\n",
       "      <td>4.0</td>\n",
       "      <td>732</td>\n",
       "      <td>Incorrect Permission Assignment for Critical ...</td>\n",
       "      <td>NaN</td>\n",
       "    </tr>\n",
       "    <tr>\n",
       "      <th>2</th>\n",
       "      <td>CVE-2019-16546</td>\n",
       "      <td>21/11/2019 15:15</td>\n",
       "      <td>21/11/2019 15:15</td>\n",
       "      <td>4.3</td>\n",
       "      <td>639</td>\n",
       "      <td>Authorization Bypass Through User-Controlled Key</td>\n",
       "      <td>NaN</td>\n",
       "    </tr>\n",
       "    <tr>\n",
       "      <th>3</th>\n",
       "      <td>CVE-2013-2092</td>\n",
       "      <td>20/11/2019 21:22</td>\n",
       "      <td>20/11/2019 21:15</td>\n",
       "      <td>4.3</td>\n",
       "      <td>79</td>\n",
       "      <td>Improper Neutralization of Input During Web P...</td>\n",
       "      <td>NaN</td>\n",
       "    </tr>\n",
       "    <tr>\n",
       "      <th>4</th>\n",
       "      <td>CVE-2013-2091</td>\n",
       "      <td>20/11/2019 20:15</td>\n",
       "      <td>20/11/2019 20:15</td>\n",
       "      <td>7.5</td>\n",
       "      <td>89</td>\n",
       "      <td>Improper Neutralization of Special Elements u...</td>\n",
       "      <td>NaN</td>\n",
       "    </tr>\n",
       "  </tbody>\n",
       "</table>\n",
       "</div>"
      ],
      "text/plain": [
       "       Unnamed: 0          mod_date          pub_date  cvss  cwe_code  \\\n",
       "0  CVE-2019-16548  21/11/2019 15:15  21/11/2019 15:15   6.8       352   \n",
       "1  CVE-2019-16547  21/11/2019 15:15  21/11/2019 15:15   4.0       732   \n",
       "2  CVE-2019-16546  21/11/2019 15:15  21/11/2019 15:15   4.3       639   \n",
       "3   CVE-2013-2092  20/11/2019 21:22  20/11/2019 21:15   4.3        79   \n",
       "4   CVE-2013-2091  20/11/2019 20:15  20/11/2019 20:15   7.5        89   \n",
       "\n",
       "                                            cwe_name  Unnamed: 6  \n",
       "0                  Cross-Site Request Forgery (CSRF)         NaN  \n",
       "1   Incorrect Permission Assignment for Critical ...         NaN  \n",
       "2   Authorization Bypass Through User-Controlled Key         NaN  \n",
       "3   Improper Neutralization of Input During Web P...         NaN  \n",
       "4   Improper Neutralization of Special Elements u...         NaN  "
      ]
     },
     "execution_count": 9,
     "metadata": {},
     "output_type": "execute_result"
    }
   ],
   "source": [
    "df4 = pd.read_csv('cve.csv')\n",
    "df4.head()"
   ]
  },
  {
   "cell_type": "code",
   "execution_count": 10,
   "id": "raised-disney",
   "metadata": {},
   "outputs": [
    {
     "data": {
      "text/html": [
       "<div>\n",
       "<style scoped>\n",
       "    .dataframe tbody tr th:only-of-type {\n",
       "        vertical-align: middle;\n",
       "    }\n",
       "\n",
       "    .dataframe tbody tr th {\n",
       "        vertical-align: top;\n",
       "    }\n",
       "\n",
       "    .dataframe thead th {\n",
       "        text-align: right;\n",
       "    }\n",
       "</style>\n",
       "<table border=\"1\" class=\"dataframe\">\n",
       "  <thead>\n",
       "    <tr style=\"text-align: right;\">\n",
       "      <th></th>\n",
       "      <th>Unnamed: 0</th>\n",
       "      <th>mod_date</th>\n",
       "      <th>pub_date</th>\n",
       "      <th>cvss</th>\n",
       "      <th>cwe_code</th>\n",
       "      <th>cwe_name</th>\n",
       "    </tr>\n",
       "  </thead>\n",
       "  <tbody>\n",
       "    <tr>\n",
       "      <th>0</th>\n",
       "      <td>CVE-2019-16548</td>\n",
       "      <td>21/11/2019 15:15</td>\n",
       "      <td>21/11/2019 15:15</td>\n",
       "      <td>6.8</td>\n",
       "      <td>352</td>\n",
       "      <td>Cross-Site Request Forgery (CSRF)</td>\n",
       "    </tr>\n",
       "    <tr>\n",
       "      <th>1</th>\n",
       "      <td>CVE-2019-16547</td>\n",
       "      <td>21/11/2019 15:15</td>\n",
       "      <td>21/11/2019 15:15</td>\n",
       "      <td>4.0</td>\n",
       "      <td>732</td>\n",
       "      <td>Incorrect Permission Assignment for Critical ...</td>\n",
       "    </tr>\n",
       "    <tr>\n",
       "      <th>2</th>\n",
       "      <td>CVE-2019-16546</td>\n",
       "      <td>21/11/2019 15:15</td>\n",
       "      <td>21/11/2019 15:15</td>\n",
       "      <td>4.3</td>\n",
       "      <td>639</td>\n",
       "      <td>Authorization Bypass Through User-Controlled Key</td>\n",
       "    </tr>\n",
       "    <tr>\n",
       "      <th>3</th>\n",
       "      <td>CVE-2013-2092</td>\n",
       "      <td>20/11/2019 21:22</td>\n",
       "      <td>20/11/2019 21:15</td>\n",
       "      <td>4.3</td>\n",
       "      <td>79</td>\n",
       "      <td>Improper Neutralization of Input During Web P...</td>\n",
       "    </tr>\n",
       "    <tr>\n",
       "      <th>4</th>\n",
       "      <td>CVE-2013-2091</td>\n",
       "      <td>20/11/2019 20:15</td>\n",
       "      <td>20/11/2019 20:15</td>\n",
       "      <td>7.5</td>\n",
       "      <td>89</td>\n",
       "      <td>Improper Neutralization of Special Elements u...</td>\n",
       "    </tr>\n",
       "    <tr>\n",
       "      <th>...</th>\n",
       "      <td>...</td>\n",
       "      <td>...</td>\n",
       "      <td>...</td>\n",
       "      <td>...</td>\n",
       "      <td>...</td>\n",
       "      <td>...</td>\n",
       "    </tr>\n",
       "    <tr>\n",
       "      <th>89655</th>\n",
       "      <td>CVE-2007-6444</td>\n",
       "      <td>10/01/2008 5:00</td>\n",
       "      <td>19/12/2007 22:46</td>\n",
       "      <td>5.0</td>\n",
       "      <td>20</td>\n",
       "      <td>Improper Input Validation</td>\n",
       "    </tr>\n",
       "    <tr>\n",
       "      <th>89656</th>\n",
       "      <td>CVE-2007-6443</td>\n",
       "      <td>10/01/2008 5:00</td>\n",
       "      <td>19/12/2007 22:46</td>\n",
       "      <td>5.0</td>\n",
       "      <td>119</td>\n",
       "      <td>Improper Restriction of Operations within the...</td>\n",
       "    </tr>\n",
       "    <tr>\n",
       "      <th>89657</th>\n",
       "      <td>CVE-2007-6442</td>\n",
       "      <td>10/01/2008 5:00</td>\n",
       "      <td>19/12/2007 22:46</td>\n",
       "      <td>5.0</td>\n",
       "      <td>119</td>\n",
       "      <td>Improper Restriction of Operations within the...</td>\n",
       "    </tr>\n",
       "    <tr>\n",
       "      <th>89658</th>\n",
       "      <td>CVE-2007-6370</td>\n",
       "      <td>10/01/2008 5:00</td>\n",
       "      <td>15/12/2007 1:46</td>\n",
       "      <td>5.0</td>\n",
       "      <td>119</td>\n",
       "      <td>Improper Restriction of Operations within the...</td>\n",
       "    </tr>\n",
       "    <tr>\n",
       "      <th>89659</th>\n",
       "      <td>CVE-2007-3004</td>\n",
       "      <td>10/01/2008 5:00</td>\n",
       "      <td>4/06/2007 17:30</td>\n",
       "      <td>5.0</td>\n",
       "      <td>119</td>\n",
       "      <td>Improper Restriction of Operations within the...</td>\n",
       "    </tr>\n",
       "  </tbody>\n",
       "</table>\n",
       "<p>89660 rows × 6 columns</p>\n",
       "</div>"
      ],
      "text/plain": [
       "           Unnamed: 0          mod_date          pub_date  cvss  cwe_code  \\\n",
       "0      CVE-2019-16548  21/11/2019 15:15  21/11/2019 15:15   6.8       352   \n",
       "1      CVE-2019-16547  21/11/2019 15:15  21/11/2019 15:15   4.0       732   \n",
       "2      CVE-2019-16546  21/11/2019 15:15  21/11/2019 15:15   4.3       639   \n",
       "3       CVE-2013-2092  20/11/2019 21:22  20/11/2019 21:15   4.3        79   \n",
       "4       CVE-2013-2091  20/11/2019 20:15  20/11/2019 20:15   7.5        89   \n",
       "...               ...               ...               ...   ...       ...   \n",
       "89655   CVE-2007-6444   10/01/2008 5:00  19/12/2007 22:46   5.0        20   \n",
       "89656   CVE-2007-6443   10/01/2008 5:00  19/12/2007 22:46   5.0       119   \n",
       "89657   CVE-2007-6442   10/01/2008 5:00  19/12/2007 22:46   5.0       119   \n",
       "89658   CVE-2007-6370   10/01/2008 5:00   15/12/2007 1:46   5.0       119   \n",
       "89659   CVE-2007-3004   10/01/2008 5:00   4/06/2007 17:30   5.0       119   \n",
       "\n",
       "                                                cwe_name  \n",
       "0                      Cross-Site Request Forgery (CSRF)  \n",
       "1       Incorrect Permission Assignment for Critical ...  \n",
       "2       Authorization Bypass Through User-Controlled Key  \n",
       "3       Improper Neutralization of Input During Web P...  \n",
       "4       Improper Neutralization of Special Elements u...  \n",
       "...                                                  ...  \n",
       "89655                          Improper Input Validation  \n",
       "89656   Improper Restriction of Operations within the...  \n",
       "89657   Improper Restriction of Operations within the...  \n",
       "89658   Improper Restriction of Operations within the...  \n",
       "89659   Improper Restriction of Operations within the...  \n",
       "\n",
       "[89660 rows x 6 columns]"
      ]
     },
     "execution_count": 10,
     "metadata": {},
     "output_type": "execute_result"
    }
   ],
   "source": [
    "df4.dropna(axis='columns', how='all')"
   ]
  },
  {
   "cell_type": "code",
   "execution_count": 11,
   "id": "hybrid-tradition",
   "metadata": {},
   "outputs": [
    {
     "data": {
      "text/plain": [
       "CVE-Year\n",
       "1999       46\n",
       "2000       18\n",
       "2001       34\n",
       "2002      217\n",
       "2003      245\n",
       "2004      147\n",
       "2005      356\n",
       "2006      864\n",
       "2007     2435\n",
       "2008     4991\n",
       "2009     4909\n",
       "2010     3755\n",
       "2011     3396\n",
       "2012     4135\n",
       "2013     4125\n",
       "2014     6825\n",
       "2015     5217\n",
       "2016     5325\n",
       "2017    12965\n",
       "2018    14855\n",
       "2019    14800\n",
       "Name: CVE, dtype: int64"
      ]
     },
     "execution_count": 11,
     "metadata": {},
     "output_type": "execute_result"
    }
   ],
   "source": [
    "df4['pub_date'] = pd.to_datetime(df4['pub_date'])\n",
    "df4.rename(columns = {'Unnamed: 0':'CVE'}, inplace=True)\n",
    "df4['CVE-Year'] = df4['pub_date'].apply(lambda x: x.strftime('%Y')) \n",
    "Our_grouped_CVEs= df4.groupby('CVE-Year') ['CVE'].count()\n",
    "Our_grouped_CVEs"
   ]
  },
  {
   "cell_type": "code",
   "execution_count": 12,
   "id": "seeing-lobby",
   "metadata": {},
   "outputs": [
    {
     "data": {
      "text/plain": [
       "<AxesSubplot:xlabel='CVE-Year'>"
      ]
     },
     "execution_count": 12,
     "metadata": {},
     "output_type": "execute_result"
    },
    {
     "data": {
      "image/png": "[encoded data removed]",
      "text/plain": [
       "<Figure size 432x288 with 1 Axes>"
      ]
     },
     "metadata": {
      "needs_background": "light"
     },
     "output_type": "display_data"
    }
   ],
   "source": [
    "Our_grouped_CVEs.plot()"
   ]
  },
  {
   "cell_type": "code",
   "execution_count": 13,
   "id": "fleet-secret",
   "metadata": {},
   "outputs": [
    {
     "data": {
      "text/plain": [
       "<AxesSubplot:xlabel='cvss'>"
      ]
     },
     "execution_count": 13,
     "metadata": {},
     "output_type": "execute_result"
    },
    {
     "data": {
      "image/png": "[encoded data removed]",
      "text/plain": [
       "<Figure size 432x288 with 1 Axes>"
      ]
     },
     "metadata": {
      "needs_background": "light"
     },
     "output_type": "display_data"
    }
   ],
   "source": [
    "df4.groupby(\"cvss\")['CVE'].count().plot()"
   ]
  },
  {
   "cell_type": "code",
   "execution_count": null,
   "id": "instructional-indonesia",
   "metadata": {},
   "outputs": [],
   "source": []
  }
 ],
 "metadata": {
  "kernelspec": {
   "display_name": "Python 3",
   "language": "python",
   "name": "python3"
  },
  "language_info": {
   "codemirror_mode": {
    "name": "ipython",
    "version": 3
   },
   "file_extension": ".py",
   "mimetype": "text/x-python",
   "name": "python",
   "nbconvert_exporter": "python",
   "pygments_lexer": "ipython3",
   "version": "3.7.9"
  }
 },
 "nbformat": 4,
 "nbformat_minor": 5
}
